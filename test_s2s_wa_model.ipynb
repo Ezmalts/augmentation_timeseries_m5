{
 "cells": [
  {
   "cell_type": "code",
   "execution_count": 38,
   "id": "f309a394",
   "metadata": {
    "ExecuteTime": {
     "end_time": "2022-02-15T07:06:52.899770Z",
     "start_time": "2022-02-15T07:06:52.883792Z"
    }
   },
   "outputs": [],
   "source": [
    "import numpy as np\n",
    "import matplotlib.pyplot as plt\n",
    "import pandas as pd\n",
    "import torch\n",
    "import torch.nn as nn\n",
    "from torch.autograd import Variable\n",
    "from sklearn.preprocessing import MinMaxScaler\n",
    "from torch.utils.data import DataLoader, Dataset\n",
    "from IPython.display import clear_output\n",
    "import torch.nn.functional as F\n",
    "from ModelsLib_wa import Seq2Seq\n",
    "from ModelsLib import DatasetTs\n",
    "from tqdm import tqdm"
   ]
  },
  {
   "cell_type": "code",
   "execution_count": 39,
   "id": "d5f59185",
   "metadata": {},
   "outputs": [],
   "source": [
    "device = torch.device('cpu')"
   ]
  },
  {
   "cell_type": "code",
   "execution_count": 40,
   "id": "f29672de",
   "metadata": {
    "ExecuteTime": {
     "end_time": "2022-02-15T07:14:37.786640Z",
     "start_time": "2022-02-15T07:14:37.685045Z"
    }
   },
   "outputs": [],
   "source": [
    "training_set = pd.read_csv('train_ts_top5.csv', index_col='item_id')"
   ]
  },
  {
   "cell_type": "code",
   "execution_count": 41,
   "id": "7d1930dc",
   "metadata": {
    "ExecuteTime": {
     "end_time": "2022-02-15T07:14:37.931130Z",
     "start_time": "2022-02-15T07:14:37.921782Z"
    }
   },
   "outputs": [],
   "source": [
    "training_set = training_set.T.values.reshape(-1, len(training_set))"
   ]
  },
  {
   "cell_type": "code",
   "execution_count": 42,
   "id": "08362d81",
   "metadata": {
    "ExecuteTime": {
     "end_time": "2022-02-15T07:14:38.149854Z",
     "start_time": "2022-02-15T07:14:38.144756Z"
    }
   },
   "outputs": [],
   "source": [
    "train = training_set[:int(0.7 * len(training_set))]\n",
    "valid = training_set[int(0.7 * len(training_set)):int(0.8 * len(training_set))]\n",
    "test = training_set[int(0.8 * len(training_set)):]"
   ]
  },
  {
   "cell_type": "code",
   "execution_count": 43,
   "id": "e07e133c",
   "metadata": {
    "ExecuteTime": {
     "end_time": "2022-02-15T07:14:38.386434Z",
     "start_time": "2022-02-15T07:14:38.379742Z"
    }
   },
   "outputs": [
    {
     "data": {
      "text/plain": [
       "(389, 153)"
      ]
     },
     "execution_count": 43,
     "metadata": {},
     "output_type": "execute_result"
    }
   ],
   "source": [
    "test.shape"
   ]
  },
  {
   "cell_type": "code",
   "execution_count": 44,
   "id": "af2558d8",
   "metadata": {
    "ExecuteTime": {
     "end_time": "2022-02-15T07:14:39.346875Z",
     "start_time": "2022-02-15T07:14:38.826026Z"
    }
   },
   "outputs": [],
   "source": [
    "def sliding_windows(data, seq_length, pred_length):\n",
    "    x = []\n",
    "    y = []\n",
    "\n",
    "    for i in range(len(data)-seq_length-1-pred_length):\n",
    "        _x = data[i:(i+seq_length)]\n",
    "        _y = data[i+seq_length:i+pred_length+seq_length]\n",
    "        x.append(_x)\n",
    "        y.append(_y)\n",
    "\n",
    "    return np.array(x),np.array(y)\n",
    "\n",
    "sc =  MinMaxScaler()\n",
    "train = sc.fit_transform(train)\n",
    "valid = sc.transform(valid)\n",
    "test = sc.transform(test)\n",
    "\n",
    "seq_length = 90\n",
    "pred_length = 28\n",
    "\n",
    "x_train, y_train = sliding_windows(train, seq_length, pred_length)\n",
    "x_valid, y_valid = sliding_windows(valid, seq_length, pred_length)\n",
    "x_test, y_test = sliding_windows(test, seq_length, pred_length)\n",
    "\n",
    "\n",
    "trainX = Variable(torch.Tensor(np.array(x_train)))\n",
    "trainy = Variable(torch.Tensor(np.array(y_train)))\n",
    "validX = Variable(torch.Tensor(np.array(x_valid)))\n",
    "validy = Variable(torch.Tensor(np.array(y_valid)))\n",
    "testX = Variable(torch.Tensor(np.array(x_test)))\n",
    "testy = Variable(torch.Tensor(np.array(y_test)))"
   ]
  },
  {
   "cell_type": "code",
   "execution_count": 45,
   "id": "919b62bf",
   "metadata": {
    "ExecuteTime": {
     "end_time": "2022-02-15T07:16:10.683048Z",
     "start_time": "2022-02-15T07:14:41.346132Z"
    }
   },
   "outputs": [
    {
     "data": {
      "text/plain": [
       "Seq2Seq(\n",
       "  (encoder): Encoder(\n",
       "    (rnn1): LSTM(153, 2448, num_layers=3, batch_first=True, dropout=0.35)\n",
       "  )\n",
       "  (attention): Attention(\n",
       "    (attn): Linear(in_features=4896, out_features=2448, bias=True)\n",
       "    (v): Linear(in_features=2448, out_features=1, bias=False)\n",
       "  )\n",
       "  (decoder): AttentionDecoder(\n",
       "    (attention): Attention(\n",
       "      (attn): Linear(in_features=4896, out_features=2448, bias=True)\n",
       "      (v): Linear(in_features=2448, out_features=1, bias=False)\n",
       "    )\n",
       "    (rnn1): LSTM(2601, 2448, num_layers=3, batch_first=True, dropout=0.35)\n",
       "    (output_layer): Linear(in_features=4896, out_features=153, bias=True)\n",
       "  )\n",
       ")"
      ]
     },
     "execution_count": 45,
     "metadata": {},
     "output_type": "execute_result"
    }
   ],
   "source": [
    "n_features = 153\n",
    "best_model = Seq2Seq(seq_length, n_features, 16 * n_features)\n",
    "\n",
    "best_model.load_state_dict(torch.load('best_model_w_att.pt'))\n",
    "best_model.eval()"
   ]
  },
  {
   "cell_type": "code",
   "execution_count": 46,
   "id": "09a24d6a",
   "metadata": {
    "ExecuteTime": {
     "end_time": "2022-02-15T07:16:10.693008Z",
     "start_time": "2022-02-15T07:16:10.686458Z"
    }
   },
   "outputs": [],
   "source": [
    "BATCH_SIZE = 128\n",
    "test = DatasetTs(testX, testy)\n",
    "test_loader = DataLoader(test, batch_size=BATCH_SIZE, shuffle=False)"
   ]
  },
  {
   "cell_type": "code",
   "execution_count": 47,
   "id": "2c25a7a7",
   "metadata": {
    "ExecuteTime": {
     "end_time": "2022-02-15T07:18:21.406486Z",
     "start_time": "2022-02-15T07:16:10.697919Z"
    }
   },
   "outputs": [
    {
     "name": "stderr",
     "output_type": "stream",
     "text": [
      "  0%|                                                                                                                             | 0/3 [00:00<?, ?it/s]/home/dmaltsev/augmentation_timeseries_m5/ModelsLib.py:278: UserWarning: To copy construct from a tensor, it is recommended to use sourceTensor.clone().detach() or sourceTensor.clone().detach().requires_grad_(True), rather than torch.tensor(sourceTensor).\n",
      "  X = Variable(torch.tensor(X))\n",
      "/home/dmaltsev/augmentation_timeseries_m5/ModelsLib.py:282: UserWarning: To copy construct from a tensor, it is recommended to use sourceTensor.clone().detach() or sourceTensor.clone().detach().requires_grad_(True), rather than torch.tensor(sourceTensor).\n",
      "  return X, Variable(torch.tensor(self.y[index]))\n",
      "100%|█████████████████████████████████████████████████████████████████████████████████████████████████████████████████████| 3/3 [00:40<00:00, 13.54s/it]\n"
     ]
    }
   ],
   "source": [
    "preds = []\n",
    "\n",
    "for X_test, y_test in tqdm(test_loader):\n",
    "    prevs_y = X_test[:, -1:, :]\n",
    "    seq_pred = best_model(X_test,prevs_y)\n",
    "    preds.append(seq_pred)"
   ]
  },
  {
   "cell_type": "code",
   "execution_count": 48,
   "id": "0882de07",
   "metadata": {
    "ExecuteTime": {
     "end_time": "2022-02-15T07:18:21.415765Z",
     "start_time": "2022-02-15T07:18:21.410636Z"
    }
   },
   "outputs": [],
   "source": [
    "preds = torch.cat(preds)"
   ]
  },
  {
   "cell_type": "code",
   "execution_count": 49,
   "id": "ca9e81a9",
   "metadata": {
    "ExecuteTime": {
     "end_time": "2022-02-15T07:18:21.424813Z",
     "start_time": "2022-02-15T07:18:21.418902Z"
    }
   },
   "outputs": [
    {
     "data": {
      "text/plain": [
       "torch.Size([270, 28, 153])"
      ]
     },
     "execution_count": 49,
     "metadata": {},
     "output_type": "execute_result"
    }
   ],
   "source": [
    "testy.shape"
   ]
  },
  {
   "cell_type": "code",
   "execution_count": 50,
   "id": "78eb7a1f",
   "metadata": {
    "ExecuteTime": {
     "end_time": "2022-02-15T07:24:26.608319Z",
     "start_time": "2022-02-15T07:24:26.604695Z"
    }
   },
   "outputs": [],
   "source": [
    "preds = preds.detach().numpy()\n",
    "testy = testy.detach().numpy()"
   ]
  },
  {
   "cell_type": "markdown",
   "id": "b82920ea",
   "metadata": {},
   "source": [
    "## Tests lstm vs naive"
   ]
  },
  {
   "cell_type": "code",
   "execution_count": 51,
   "id": "8e36b62e",
   "metadata": {
    "ExecuteTime": {
     "end_time": "2022-02-15T07:24:33.611960Z",
     "start_time": "2022-02-15T07:24:33.608053Z"
    }
   },
   "outputs": [],
   "source": [
    "naive_base = testX[:, -1:, :].detach().numpy()"
   ]
  },
  {
   "cell_type": "code",
   "execution_count": 52,
   "id": "c447ad47",
   "metadata": {
    "ExecuteTime": {
     "end_time": "2022-02-15T07:24:38.101841Z",
     "start_time": "2022-02-15T07:24:37.928967Z"
    }
   },
   "outputs": [],
   "source": [
    "naive_pred = np.zeros((preds.shape))\n",
    "\n",
    "for i in range(naive_pred.shape[0]):\n",
    "    for j in range(naive_pred.shape[1]):\n",
    "        for k in range(naive_pred.shape[2]):\n",
    "            naive_pred[i, j, k] = naive_base[i, 0, k]"
   ]
  },
  {
   "cell_type": "code",
   "execution_count": 53,
   "id": "057d8d90",
   "metadata": {
    "ExecuteTime": {
     "end_time": "2022-02-15T07:24:39.519718Z",
     "start_time": "2022-02-15T07:24:39.515231Z"
    }
   },
   "outputs": [],
   "source": [
    "def MSE(x, y):\n",
    "    return np.sqrt(np.mean((x - y) ** 2))"
   ]
  },
  {
   "cell_type": "code",
   "execution_count": 54,
   "id": "2257d003",
   "metadata": {
    "ExecuteTime": {
     "end_time": "2022-02-15T07:24:40.068495Z",
     "start_time": "2022-02-15T07:24:40.054457Z"
    }
   },
   "outputs": [],
   "source": [
    "mse_days_naive = []\n",
    "mse_days_lstm = []\n",
    "\n",
    "for i in range(testy.shape[1]):\n",
    "    mse_days_naive.append(MSE(testy[:, i, :], naive_pred[:, i, :]))\n",
    "    mse_days_lstm.append(MSE(testy[:, i, :], preds[:, i, :]))"
   ]
  },
  {
   "cell_type": "code",
   "execution_count": 55,
   "id": "56fe9f67",
   "metadata": {
    "ExecuteTime": {
     "end_time": "2022-02-15T07:24:43.931240Z",
     "start_time": "2022-02-15T07:24:43.337617Z"
    }
   },
   "outputs": [
    {
     "name": "stdout",
     "output_type": "stream",
     "text": [
      "0.14797254115836106\n",
      "27.988653\n"
     ]
    },
    {
     "data": {
      "image/png": "[encoded data removed]",
      "text/plain": [
       "<Figure size 432x288 with 1 Axes>"
      ]
     },
     "metadata": {
      "needs_background": "light"
     },
     "output_type": "display_data"
    }
   ],
   "source": [
    "plt.plot(\n",
    "    mse_days_naive,\n",
    "    label='naive'\n",
    ")\n",
    "\n",
    "plt.plot(\n",
    "    mse_days_lstm,\n",
    "    label='lstm'\n",
    ")\n",
    "\n",
    "print(MSE(testy, naive_pred))\n",
    "print(MSE(testy, preds))\n",
    "\n",
    "plt.xlabel('day_to_predict')\n",
    "plt.ylabel('MSE')\n",
    "plt.legend()\n",
    "plt.show()"
   ]
  },
  {
   "cell_type": "code",
   "execution_count": 37,
   "id": "70e751c7",
   "metadata": {
    "ExecuteTime": {
     "end_time": "2022-02-15T07:25:05.429973Z",
     "start_time": "2022-02-15T07:25:05.075499Z"
    }
   },
   "outputs": [
    {
     "data": {
      "image/png": "[encoded data removed]",
      "text/plain": [
       "<Figure size 432x288 with 1 Axes>"
      ]
     },
     "metadata": {
      "needs_background": "light"
     },
     "output_type": "display_data"
    }
   ],
   "source": [
    "plt.plot(\n",
    "    preds[50, :, 0],\n",
    "    label='pred'\n",
    ")\n",
    "\n",
    "plt.plot(\n",
    "    testy[50, :, 0],\n",
    "    label='true'\n",
    ")\n",
    "\n",
    "plt.plot(\n",
    "    naive_pred[50, :, 0],\n",
    "    label='naive'\n",
    ")\n",
    "\n",
    "plt.legend()\n",
    "plt.show()"
   ]
  },
  {
   "cell_type": "code",
   "execution_count": 37,
   "id": "e7a137fd",
   "metadata": {},
   "outputs": [
    {
     "data": {
      "text/plain": [
       "array([[[0.00042485, 0.00676041, 0.00131575, ..., 0.00165644,\n",
       "         0.00100436, 0.00132036],\n",
       "        [0.00046795, 0.01095187, 0.00106905, ..., 0.00118924,\n",
       "         0.00090393, 0.00117365],\n",
       "        [0.00049874, 0.00973499, 0.00205586, ..., 0.00227229,\n",
       "         0.0014635 , 0.00146706],\n",
       "        ...,\n",
       "        [0.0005049 , 0.01230395, 0.00232998, ..., 0.00246342,\n",
       "         0.00265438, 0.00244511],\n",
       "        [0.00057879, 0.00892374, 0.00148022, ..., 0.00189004,\n",
       "         0.00167872, 0.0022984 ],\n",
       "        [0.00048643, 0.00797729, 0.00230257, ..., 0.00237847,\n",
       "         0.00156393, 0.00102695]],\n",
       "\n",
       "       [[0.00046795, 0.01095187, 0.00106905, ..., 0.00118924,\n",
       "         0.00090393, 0.00117365],\n",
       "        [0.00049874, 0.00973499, 0.00205586, ..., 0.00227229,\n",
       "         0.0014635 , 0.00146706],\n",
       "        [0.00060341, 0.0114927 , 0.00257668, ..., 0.00169891,\n",
       "         0.00246786, 0.00298303],\n",
       "        ...,\n",
       "        [0.00057879, 0.00892374, 0.00148022, ..., 0.00189004,\n",
       "         0.00167872, 0.0022984 ],\n",
       "        [0.00048643, 0.00797729, 0.00230257, ..., 0.00237847,\n",
       "         0.00156393, 0.00102695],\n",
       "        [0.00051721, 0.00459708, 0.00126093, ..., 0.00148655,\n",
       "         0.00208046, 0.00127146]],\n",
       "\n",
       "       [[0.00049874, 0.00973499, 0.00205586, ..., 0.00227229,\n",
       "         0.0014635 , 0.00146706],\n",
       "        [0.00060341, 0.0114927 , 0.00257668, ..., 0.00169891,\n",
       "         0.00246786, 0.00298303],\n",
       "        [0.00052337, 0.00648999, 0.00268633, ..., 0.0016352 ,\n",
       "         0.0021522 , 0.00293413],\n",
       "        ...,\n",
       "        [0.00048643, 0.00797729, 0.00230257, ..., 0.00237847,\n",
       "         0.00156393, 0.00102695],\n",
       "        [0.00051721, 0.00459708, 0.00126093, ..., 0.00148655,\n",
       "         0.00208046, 0.00127146],\n",
       "        [0.00043101, 0.00716604, 0.00123352, ..., 0.00131666,\n",
       "         0.00140611, 0.00122255]],\n",
       "\n",
       "       ...,\n",
       "\n",
       "       [[0.00024629, 0.01392645, 0.0014254 , ..., 0.00114676,\n",
       "         0.00094697, 0.00117365],\n",
       "        [0.00023398, 0.0114927 , 0.00194622, ..., 0.00237847,\n",
       "         0.00104741, 0.0022495 ],\n",
       "        [0.00024629, 0.00919416, 0.00202845, ..., 0.00161397,\n",
       "         0.00078914, 0.00176048],\n",
       "        ...,\n",
       "        [0.00020319, 0.00757166, 0.00148022, ..., 0.00195375,\n",
       "         0.00099001, 0.00097804],\n",
       "        [0.00017856, 0.00648999, 0.00153505, ..., 0.0016352 ,\n",
       "         0.00073175, 0.00141816],\n",
       "        [0.00020319, 0.0082477 , 0.00115128, ..., 0.00169891,\n",
       "         0.00061697, 0.00122255]],\n",
       "\n",
       "       [[0.00023398, 0.0114927 , 0.00194622, ..., 0.00237847,\n",
       "         0.00104741, 0.0022495 ],\n",
       "        [0.00024629, 0.00919416, 0.00202845, ..., 0.00161397,\n",
       "         0.00078914, 0.00176048],\n",
       "        [0.00015393, 0.00703083, 0.00145281, ..., 0.00131666,\n",
       "         0.00084653, 0.00166267],\n",
       "        ...,\n",
       "        [0.00017856, 0.00648999, 0.00153505, ..., 0.0016352 ,\n",
       "         0.00073175, 0.00141816],\n",
       "        [0.00020319, 0.0082477 , 0.00115128, ..., 0.00169891,\n",
       "         0.00061697, 0.00122255],\n",
       "        [0.00025861, 0.0082477 , 0.00109646, ..., 0.00242095,\n",
       "         0.00119089, 0.00151597]],\n",
       "\n",
       "       [[0.00024629, 0.00919416, 0.00202845, ..., 0.00161397,\n",
       "         0.00078914, 0.00176048],\n",
       "        [0.00015393, 0.00703083, 0.00145281, ..., 0.00131666,\n",
       "         0.00084653, 0.00166267],\n",
       "        [0.00032634, 0.00567875, 0.00137058, ..., 0.00112553,\n",
       "         0.0007174 , 0.00102695],\n",
       "        ...,\n",
       "        [0.00020319, 0.0082477 , 0.00115128, ..., 0.00169891,\n",
       "         0.00061697, 0.00122255],\n",
       "        [0.00025861, 0.0082477 , 0.00109646, ..., 0.00242095,\n",
       "         0.00119089, 0.00151597],\n",
       "        [0.00027092, 0.00973499, 0.00156246, ..., 0.00235724,\n",
       "         0.00126263, 0.00210279]]], dtype=float32)"
      ]
     },
     "execution_count": 37,
     "metadata": {},
     "output_type": "execute_result"
    }
   ],
   "source": [
    "testy"
   ]
  },
  {
   "cell_type": "code",
   "execution_count": null,
   "id": "1b8ad38d",
   "metadata": {},
   "outputs": [],
   "source": []
  }
 ],
 "metadata": {
  "kernelspec": {
   "display_name": "Python 3 (ipykernel)",
   "language": "python",
   "name": "python3"
  },
  "language_info": {
   "codemirror_mode": {
    "name": "ipython",
    "version": 3
   },
   "file_extension": ".py",
   "mimetype": "text/x-python",
   "name": "python",
   "nbconvert_exporter": "python",
   "pygments_lexer": "ipython3",
   "version": "3.9.7"
  }
 },
 "nbformat": 4,
 "nbformat_minor": 5
}
