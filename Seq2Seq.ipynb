{
 "cells": [
  {
   "cell_type": "code",
   "execution_count": 2,
   "id": "340b6b93",
   "metadata": {
    "ExecuteTime": {
     "end_time": "2022-02-13T17:16:29.368023Z",
     "start_time": "2022-02-13T17:16:28.648400Z"
    }
   },
   "outputs": [
    {
     "data": {
      "text/plain": [
       "<torch._C.Generator at 0x7ff9a1311ad0>"
      ]
     },
     "execution_count": 2,
     "metadata": {},
     "output_type": "execute_result"
    }
   ],
   "source": [
    "import numpy as np\n",
    "import matplotlib.pyplot as plt\n",
    "import pandas as pd\n",
    "import torch\n",
    "import torch.nn as nn\n",
    "from torch.autograd import Variable\n",
    "from sklearn.preprocessing import MinMaxScaler\n",
    "from torch.utils.data import DataLoader, Dataset\n",
    "from IPython.display import clear_output\n",
    "import torch\n",
    "\n",
    "torch.manual_seed(0)"
   ]
  },
  {
   "cell_type": "code",
   "execution_count": 3,
   "id": "4c5d4159",
   "metadata": {
    "ExecuteTime": {
     "end_time": "2022-02-13T17:16:32.508992Z",
     "start_time": "2022-02-13T17:16:32.441851Z"
    }
   },
   "outputs": [],
   "source": [
    "training_set = pd.read_csv('train_ts_top5.csv', index_col='item_id')"
   ]
  },
  {
   "cell_type": "code",
   "execution_count": 4,
   "id": "5eac6695",
   "metadata": {},
   "outputs": [],
   "source": [
    "training_set = training_set.sum(axis=0)"
   ]
  },
  {
   "cell_type": "code",
   "execution_count": 4,
   "id": "e6eb25d6",
   "metadata": {
    "ExecuteTime": {
     "end_time": "2022-02-13T17:16:35.919828Z",
     "start_time": "2022-02-13T17:16:35.901987Z"
    }
   },
   "outputs": [
    {
     "data": {
      "text/html": [
       "<div>\n",
       "<style scoped>\n",
       "    .dataframe tbody tr th:only-of-type {\n",
       "        vertical-align: middle;\n",
       "    }\n",
       "\n",
       "    .dataframe tbody tr th {\n",
       "        vertical-align: top;\n",
       "    }\n",
       "\n",
       "    .dataframe thead th {\n",
       "        text-align: right;\n",
       "    }\n",
       "</style>\n",
       "<table border=\"1\" class=\"dataframe\">\n",
       "  <thead>\n",
       "    <tr style=\"text-align: right;\">\n",
       "      <th></th>\n",
       "      <th>d_1</th>\n",
       "      <th>d_2</th>\n",
       "      <th>d_3</th>\n",
       "      <th>d_4</th>\n",
       "      <th>d_5</th>\n",
       "      <th>d_6</th>\n",
       "      <th>d_7</th>\n",
       "      <th>d_8</th>\n",
       "      <th>d_9</th>\n",
       "      <th>d_10</th>\n",
       "      <th>...</th>\n",
       "      <th>d_1932</th>\n",
       "      <th>d_1933</th>\n",
       "      <th>d_1934</th>\n",
       "      <th>d_1935</th>\n",
       "      <th>d_1936</th>\n",
       "      <th>d_1937</th>\n",
       "      <th>d_1938</th>\n",
       "      <th>d_1939</th>\n",
       "      <th>d_1940</th>\n",
       "      <th>d_1941</th>\n",
       "    </tr>\n",
       "    <tr>\n",
       "      <th>item_id</th>\n",
       "      <th></th>\n",
       "      <th></th>\n",
       "      <th></th>\n",
       "      <th></th>\n",
       "      <th></th>\n",
       "      <th></th>\n",
       "      <th></th>\n",
       "      <th></th>\n",
       "      <th></th>\n",
       "      <th></th>\n",
       "      <th></th>\n",
       "      <th></th>\n",
       "      <th></th>\n",
       "      <th></th>\n",
       "      <th></th>\n",
       "      <th></th>\n",
       "      <th></th>\n",
       "      <th></th>\n",
       "      <th></th>\n",
       "      <th></th>\n",
       "      <th></th>\n",
       "    </tr>\n",
       "  </thead>\n",
       "  <tbody>\n",
       "    <tr>\n",
       "      <th>FOODS_1_004</th>\n",
       "      <td>0</td>\n",
       "      <td>0</td>\n",
       "      <td>0</td>\n",
       "      <td>0</td>\n",
       "      <td>0</td>\n",
       "      <td>0</td>\n",
       "      <td>0</td>\n",
       "      <td>0</td>\n",
       "      <td>0</td>\n",
       "      <td>0</td>\n",
       "      <td>...</td>\n",
       "      <td>115</td>\n",
       "      <td>104</td>\n",
       "      <td>107</td>\n",
       "      <td>81</td>\n",
       "      <td>73</td>\n",
       "      <td>62</td>\n",
       "      <td>71</td>\n",
       "      <td>75</td>\n",
       "      <td>83</td>\n",
       "      <td>93</td>\n",
       "    </tr>\n",
       "    <tr>\n",
       "      <th>FOODS_1_012</th>\n",
       "      <td>0</td>\n",
       "      <td>0</td>\n",
       "      <td>0</td>\n",
       "      <td>0</td>\n",
       "      <td>0</td>\n",
       "      <td>0</td>\n",
       "      <td>0</td>\n",
       "      <td>0</td>\n",
       "      <td>0</td>\n",
       "      <td>0</td>\n",
       "      <td>...</td>\n",
       "      <td>65</td>\n",
       "      <td>55</td>\n",
       "      <td>43</td>\n",
       "      <td>46</td>\n",
       "      <td>43</td>\n",
       "      <td>36</td>\n",
       "      <td>53</td>\n",
       "      <td>57</td>\n",
       "      <td>61</td>\n",
       "      <td>56</td>\n",
       "    </tr>\n",
       "    <tr>\n",
       "      <th>FOODS_1_018</th>\n",
       "      <td>47</td>\n",
       "      <td>26</td>\n",
       "      <td>30</td>\n",
       "      <td>24</td>\n",
       "      <td>13</td>\n",
       "      <td>18</td>\n",
       "      <td>30</td>\n",
       "      <td>32</td>\n",
       "      <td>31</td>\n",
       "      <td>16</td>\n",
       "      <td>...</td>\n",
       "      <td>104</td>\n",
       "      <td>134</td>\n",
       "      <td>146</td>\n",
       "      <td>98</td>\n",
       "      <td>92</td>\n",
       "      <td>71</td>\n",
       "      <td>99</td>\n",
       "      <td>100</td>\n",
       "      <td>128</td>\n",
       "      <td>105</td>\n",
       "    </tr>\n",
       "    <tr>\n",
       "      <th>FOODS_1_032</th>\n",
       "      <td>62</td>\n",
       "      <td>63</td>\n",
       "      <td>34</td>\n",
       "      <td>54</td>\n",
       "      <td>48</td>\n",
       "      <td>45</td>\n",
       "      <td>49</td>\n",
       "      <td>42</td>\n",
       "      <td>31</td>\n",
       "      <td>25</td>\n",
       "      <td>...</td>\n",
       "      <td>100</td>\n",
       "      <td>98</td>\n",
       "      <td>71</td>\n",
       "      <td>71</td>\n",
       "      <td>62</td>\n",
       "      <td>52</td>\n",
       "      <td>75</td>\n",
       "      <td>72</td>\n",
       "      <td>89</td>\n",
       "      <td>83</td>\n",
       "    </tr>\n",
       "    <tr>\n",
       "      <th>FOODS_1_043</th>\n",
       "      <td>0</td>\n",
       "      <td>0</td>\n",
       "      <td>0</td>\n",
       "      <td>0</td>\n",
       "      <td>0</td>\n",
       "      <td>0</td>\n",
       "      <td>0</td>\n",
       "      <td>0</td>\n",
       "      <td>0</td>\n",
       "      <td>0</td>\n",
       "      <td>...</td>\n",
       "      <td>186</td>\n",
       "      <td>109</td>\n",
       "      <td>139</td>\n",
       "      <td>104</td>\n",
       "      <td>68</td>\n",
       "      <td>54</td>\n",
       "      <td>101</td>\n",
       "      <td>115</td>\n",
       "      <td>104</td>\n",
       "      <td>128</td>\n",
       "    </tr>\n",
       "    <tr>\n",
       "      <th>...</th>\n",
       "      <td>...</td>\n",
       "      <td>...</td>\n",
       "      <td>...</td>\n",
       "      <td>...</td>\n",
       "      <td>...</td>\n",
       "      <td>...</td>\n",
       "      <td>...</td>\n",
       "      <td>...</td>\n",
       "      <td>...</td>\n",
       "      <td>...</td>\n",
       "      <td>...</td>\n",
       "      <td>...</td>\n",
       "      <td>...</td>\n",
       "      <td>...</td>\n",
       "      <td>...</td>\n",
       "      <td>...</td>\n",
       "      <td>...</td>\n",
       "      <td>...</td>\n",
       "      <td>...</td>\n",
       "      <td>...</td>\n",
       "      <td>...</td>\n",
       "    </tr>\n",
       "    <tr>\n",
       "      <th>HOUSEHOLD_1_447</th>\n",
       "      <td>0</td>\n",
       "      <td>0</td>\n",
       "      <td>0</td>\n",
       "      <td>0</td>\n",
       "      <td>0</td>\n",
       "      <td>0</td>\n",
       "      <td>0</td>\n",
       "      <td>0</td>\n",
       "      <td>0</td>\n",
       "      <td>0</td>\n",
       "      <td>...</td>\n",
       "      <td>81</td>\n",
       "      <td>85</td>\n",
       "      <td>62</td>\n",
       "      <td>76</td>\n",
       "      <td>76</td>\n",
       "      <td>56</td>\n",
       "      <td>47</td>\n",
       "      <td>77</td>\n",
       "      <td>62</td>\n",
       "      <td>34</td>\n",
       "    </tr>\n",
       "    <tr>\n",
       "      <th>HOUSEHOLD_1_459</th>\n",
       "      <td>0</td>\n",
       "      <td>0</td>\n",
       "      <td>0</td>\n",
       "      <td>0</td>\n",
       "      <td>0</td>\n",
       "      <td>0</td>\n",
       "      <td>0</td>\n",
       "      <td>0</td>\n",
       "      <td>0</td>\n",
       "      <td>0</td>\n",
       "      <td>...</td>\n",
       "      <td>92</td>\n",
       "      <td>149</td>\n",
       "      <td>85</td>\n",
       "      <td>84</td>\n",
       "      <td>90</td>\n",
       "      <td>89</td>\n",
       "      <td>88</td>\n",
       "      <td>119</td>\n",
       "      <td>122</td>\n",
       "      <td>100</td>\n",
       "    </tr>\n",
       "    <tr>\n",
       "      <th>HOUSEHOLD_1_465</th>\n",
       "      <td>0</td>\n",
       "      <td>0</td>\n",
       "      <td>0</td>\n",
       "      <td>0</td>\n",
       "      <td>0</td>\n",
       "      <td>0</td>\n",
       "      <td>0</td>\n",
       "      <td>0</td>\n",
       "      <td>0</td>\n",
       "      <td>0</td>\n",
       "      <td>...</td>\n",
       "      <td>110</td>\n",
       "      <td>139</td>\n",
       "      <td>157</td>\n",
       "      <td>106</td>\n",
       "      <td>61</td>\n",
       "      <td>62</td>\n",
       "      <td>78</td>\n",
       "      <td>108</td>\n",
       "      <td>99</td>\n",
       "      <td>91</td>\n",
       "    </tr>\n",
       "    <tr>\n",
       "      <th>HOUSEHOLD_1_521</th>\n",
       "      <td>53</td>\n",
       "      <td>48</td>\n",
       "      <td>37</td>\n",
       "      <td>36</td>\n",
       "      <td>43</td>\n",
       "      <td>48</td>\n",
       "      <td>42</td>\n",
       "      <td>59</td>\n",
       "      <td>47</td>\n",
       "      <td>42</td>\n",
       "      <td>...</td>\n",
       "      <td>63</td>\n",
       "      <td>83</td>\n",
       "      <td>70</td>\n",
       "      <td>44</td>\n",
       "      <td>52</td>\n",
       "      <td>46</td>\n",
       "      <td>34</td>\n",
       "      <td>74</td>\n",
       "      <td>67</td>\n",
       "      <td>47</td>\n",
       "    </tr>\n",
       "    <tr>\n",
       "      <th>HOUSEHOLD_1_535</th>\n",
       "      <td>0</td>\n",
       "      <td>0</td>\n",
       "      <td>0</td>\n",
       "      <td>0</td>\n",
       "      <td>0</td>\n",
       "      <td>0</td>\n",
       "      <td>0</td>\n",
       "      <td>0</td>\n",
       "      <td>0</td>\n",
       "      <td>0</td>\n",
       "      <td>...</td>\n",
       "      <td>41</td>\n",
       "      <td>46</td>\n",
       "      <td>55</td>\n",
       "      <td>45</td>\n",
       "      <td>33</td>\n",
       "      <td>41</td>\n",
       "      <td>36</td>\n",
       "      <td>44</td>\n",
       "      <td>56</td>\n",
       "      <td>66</td>\n",
       "    </tr>\n",
       "  </tbody>\n",
       "</table>\n",
       "<p>153 rows × 1941 columns</p>\n",
       "</div>"
      ],
      "text/plain": [
       "                 d_1  d_2  d_3  d_4  d_5  d_6  d_7  d_8  d_9  d_10  ...  \\\n",
       "item_id                                                             ...   \n",
       "FOODS_1_004        0    0    0    0    0    0    0    0    0     0  ...   \n",
       "FOODS_1_012        0    0    0    0    0    0    0    0    0     0  ...   \n",
       "FOODS_1_018       47   26   30   24   13   18   30   32   31    16  ...   \n",
       "FOODS_1_032       62   63   34   54   48   45   49   42   31    25  ...   \n",
       "FOODS_1_043        0    0    0    0    0    0    0    0    0     0  ...   \n",
       "...              ...  ...  ...  ...  ...  ...  ...  ...  ...   ...  ...   \n",
       "HOUSEHOLD_1_447    0    0    0    0    0    0    0    0    0     0  ...   \n",
       "HOUSEHOLD_1_459    0    0    0    0    0    0    0    0    0     0  ...   \n",
       "HOUSEHOLD_1_465    0    0    0    0    0    0    0    0    0     0  ...   \n",
       "HOUSEHOLD_1_521   53   48   37   36   43   48   42   59   47    42  ...   \n",
       "HOUSEHOLD_1_535    0    0    0    0    0    0    0    0    0     0  ...   \n",
       "\n",
       "                 d_1932  d_1933  d_1934  d_1935  d_1936  d_1937  d_1938  \\\n",
       "item_id                                                                   \n",
       "FOODS_1_004         115     104     107      81      73      62      71   \n",
       "FOODS_1_012          65      55      43      46      43      36      53   \n",
       "FOODS_1_018         104     134     146      98      92      71      99   \n",
       "FOODS_1_032         100      98      71      71      62      52      75   \n",
       "FOODS_1_043         186     109     139     104      68      54     101   \n",
       "...                 ...     ...     ...     ...     ...     ...     ...   \n",
       "HOUSEHOLD_1_447      81      85      62      76      76      56      47   \n",
       "HOUSEHOLD_1_459      92     149      85      84      90      89      88   \n",
       "HOUSEHOLD_1_465     110     139     157     106      61      62      78   \n",
       "HOUSEHOLD_1_521      63      83      70      44      52      46      34   \n",
       "HOUSEHOLD_1_535      41      46      55      45      33      41      36   \n",
       "\n",
       "                 d_1939  d_1940  d_1941  \n",
       "item_id                                  \n",
       "FOODS_1_004          75      83      93  \n",
       "FOODS_1_012          57      61      56  \n",
       "FOODS_1_018         100     128     105  \n",
       "FOODS_1_032          72      89      83  \n",
       "FOODS_1_043         115     104     128  \n",
       "...                 ...     ...     ...  \n",
       "HOUSEHOLD_1_447      77      62      34  \n",
       "HOUSEHOLD_1_459     119     122     100  \n",
       "HOUSEHOLD_1_465     108      99      91  \n",
       "HOUSEHOLD_1_521      74      67      47  \n",
       "HOUSEHOLD_1_535      44      56      66  \n",
       "\n",
       "[153 rows x 1941 columns]"
      ]
     },
     "execution_count": 4,
     "metadata": {},
     "output_type": "execute_result"
    }
   ],
   "source": [
    "#training_set = training_set.sum(axis=0)\n",
    "\n",
    "training_set"
   ]
  },
  {
   "cell_type": "code",
   "execution_count": 5,
   "id": "52b21271",
   "metadata": {
    "ExecuteTime": {
     "end_time": "2022-02-13T17:16:39.390882Z",
     "start_time": "2022-02-13T17:16:39.388049Z"
    }
   },
   "outputs": [],
   "source": [
    "training_set = training_set.T.values.reshape(-1, len(training_set))"
   ]
  },
  {
   "cell_type": "code",
   "execution_count": 6,
   "id": "fe2235fd",
   "metadata": {
    "ExecuteTime": {
     "end_time": "2022-02-13T17:16:39.650820Z",
     "start_time": "2022-02-13T17:16:39.646574Z"
    }
   },
   "outputs": [
    {
     "data": {
      "text/plain": [
       "array([[  0,   0,  47, ...,   0,  53,   0],\n",
       "       [  0,   0,  26, ...,   0,  48,   0],\n",
       "       [  0,   0,  30, ...,   0,  37,   0],\n",
       "       ...,\n",
       "       [ 75,  57, 100, ..., 108,  74,  44],\n",
       "       [ 83,  61, 128, ...,  99,  67,  56],\n",
       "       [ 93,  56, 105, ...,  91,  47,  66]])"
      ]
     },
     "execution_count": 6,
     "metadata": {},
     "output_type": "execute_result"
    }
   ],
   "source": [
    "training_set"
   ]
  },
  {
   "cell_type": "code",
   "execution_count": 7,
   "id": "1a70c260",
   "metadata": {
    "ExecuteTime": {
     "end_time": "2022-02-13T17:16:43.779793Z",
     "start_time": "2022-02-13T17:16:43.776300Z"
    }
   },
   "outputs": [],
   "source": [
    "train = training_set[:int(0.8 * len(training_set))]\n",
    "valid = training_set[int(0.8 * len(training_set)):int(0.9 * len(training_set))]\n",
    "test = training_set[int(0.9 * len(training_set)):]"
   ]
  },
  {
   "cell_type": "code",
   "execution_count": 8,
   "id": "dab3247c",
   "metadata": {
    "ExecuteTime": {
     "end_time": "2022-02-13T17:16:44.847960Z",
     "start_time": "2022-02-13T17:16:44.492793Z"
    }
   },
   "outputs": [],
   "source": [
    "def sliding_windows(data, seq_length, pred_length):\n",
    "    x = []\n",
    "    y = []\n",
    "\n",
    "    for i in range(len(data)-seq_length-1-pred_length):\n",
    "        _x = data[i:(i+seq_length)]\n",
    "        _y = data[i+seq_length:i+pred_length+seq_length]\n",
    "        x.append(_x)\n",
    "        y.append(_y)\n",
    "\n",
    "    return np.array(x),np.array(y)\n",
    "\n",
    "sc = MinMaxScaler()\n",
    "\n",
    "train = sc.fit_transform(train)\n",
    "valid = sc.transform(valid)\n",
    "\n",
    "seq_length = 90\n",
    "pred_length = 28\n",
    "x_train, y_train = sliding_windows(train, seq_length, pred_length)\n",
    "x_valid, y_valid = sliding_windows(valid, seq_length, pred_length)\n",
    "\n",
    "\n",
    "TrainX = Variable(torch.Tensor(np.array(x_train)))\n",
    "Trainy = Variable(torch.Tensor(np.array(y_train)))\n",
    "ValidX = Variable(torch.Tensor(np.array(x_valid)))\n",
    "Validy = Variable(torch.Tensor(np.array(y_valid)))"
   ]
  },
  {
   "cell_type": "code",
   "execution_count": 9,
   "id": "434f75f6",
   "metadata": {
    "ExecuteTime": {
     "end_time": "2022-02-13T17:16:45.101303Z",
     "start_time": "2022-02-13T17:16:45.096363Z"
    }
   },
   "outputs": [
    {
     "data": {
      "text/plain": [
       "torch.Size([1433, 28, 153])"
      ]
     },
     "execution_count": 9,
     "metadata": {},
     "output_type": "execute_result"
    }
   ],
   "source": [
    "Trainy.shape"
   ]
  },
  {
   "cell_type": "markdown",
   "id": "6e66a448",
   "metadata": {},
   "source": [
    "## Encoder "
   ]
  },
  {
   "cell_type": "code",
   "execution_count": 61,
   "id": "ae2e94a5",
   "metadata": {
    "ExecuteTime": {
     "end_time": "2022-02-14T06:55:55.745586Z",
     "start_time": "2022-02-14T06:55:55.739431Z"
    }
   },
   "outputs": [],
   "source": [
    "class Encoder(nn.Module):\n",
    "    def __init__(self, seq_len, n_features, embedding_dim=64):\n",
    "        super(Encoder, self).__init__()\n",
    "\n",
    "        self.seq_len, self.n_features = seq_len, n_features\n",
    "        self.embedding_dim, self.hidden_dim = embedding_dim,  embedding_dim\n",
    "        self.num_layers = 3\n",
    "        self.rnn1 = nn.LSTM(\n",
    "          input_size=n_features,\n",
    "          hidden_size=self.hidden_dim,\n",
    "          num_layers=3,\n",
    "          batch_first=True,\n",
    "          dropout = 0.3\n",
    "        )\n",
    "   \n",
    "    def forward(self, x):\n",
    "       \n",
    "        x = x.reshape((-1, self.seq_len, self.n_features))\n",
    "        #print(x.shape)\n",
    "        \n",
    "        h_1 = Variable(torch.zeros(\n",
    "            self.num_layers, x.size(0), self.hidden_dim))\n",
    "         \n",
    "        \n",
    "        c_1 = Variable(torch.zeros(\n",
    "            self.num_layers, x.size(0), self.hidden_dim))\n",
    "              \n",
    "        x, (hidden, cell) = self.rnn1(x,(h_1, c_1))\n",
    "        \n",
    "        \n",
    "        return hidden , cell "
   ]
  },
  {
   "cell_type": "markdown",
   "id": "2c7b8eff",
   "metadata": {},
   "source": [
    "## Decoder "
   ]
  },
  {
   "cell_type": "code",
   "execution_count": 62,
   "id": "cd7c2369",
   "metadata": {
    "ExecuteTime": {
     "end_time": "2022-02-14T06:55:56.544542Z",
     "start_time": "2022-02-14T06:55:56.539997Z"
    }
   },
   "outputs": [],
   "source": [
    "class Decoder(nn.Module):\n",
    "    def __init__(self, seq_len, input_dim=64, n_features=1):\n",
    "        super(Decoder, self).__init__()\n",
    "\n",
    "        self.seq_len, self.input_dim = seq_len, input_dim\n",
    "        self.hidden_dim, self.n_features =  input_dim, n_features\n",
    "        \n",
    "        self.rnn1 = nn.LSTM(\n",
    "          input_size=n_features,\n",
    "          hidden_size=input_dim,\n",
    "          num_layers=3,\n",
    "          batch_first=True,\n",
    "          dropout = 0.3\n",
    "        )\n",
    "        \n",
    "        \n",
    "      \n",
    "        self.output_layer = nn.Linear(self.hidden_dim, n_features)\n",
    "\n",
    "    def forward(self, x, input_hidden, input_cell):\n",
    "       \n",
    "       \n",
    "        x = x.reshape((-1, 1, self.n_features))\n",
    "        #print(\"decode input\",x.size())\n",
    "             \n",
    "\n",
    "        x, (hidden_n, cell_n) = self.rnn1(x,(input_hidden,input_cell))\n",
    "        #print(x.shape)\n",
    "        x = self.output_layer(x)\n",
    "        #print(f'forward decoder: {x.shape}')\n",
    "        return x, hidden_n, cell_n"
   ]
  },
  {
   "cell_type": "markdown",
   "id": "0bdd99df",
   "metadata": {},
   "source": [
    "## Seq2seq"
   ]
  },
  {
   "cell_type": "code",
   "execution_count": 63,
   "id": "95bf7def",
   "metadata": {
    "ExecuteTime": {
     "end_time": "2022-02-14T06:55:58.470232Z",
     "start_time": "2022-02-14T06:55:58.465011Z"
    }
   },
   "outputs": [],
   "source": [
    "class Seq2Seq(nn.Module):\n",
    "\n",
    "    def __init__(self, seq_len, n_features, embedding_dim=64,output_length=1):\n",
    "        super(Seq2Seq, self).__init__()\n",
    "\n",
    "        self.encoder = Encoder(seq_len, n_features, embedding_dim)\n",
    "        self.n_features = n_features\n",
    "        self.output_length = output_length\n",
    "        self.decoder = Decoder(seq_len, embedding_dim, n_features)\n",
    "        \n",
    "\n",
    "    def forward(self, x, prev_y):\n",
    "        hidden,cell = self.encoder(x)\n",
    "        \n",
    "        #Prepare place holder for decoder output\n",
    "        targets_ta = []\n",
    "        #prev_output become the next input to the LSTM cell\n",
    "        dec_input = prev_y\n",
    "        \n",
    "\n",
    "        \n",
    "        #print(f'dec_input_init: {dec_input.shape}')\n",
    "        #itearate over LSTM - according to the required output days\n",
    "        for out_days in range(self.output_length) :\n",
    "            \n",
    "          \n",
    "            prev_x,prev_hidden,prev_cell = self.decoder(dec_input,hidden,cell)\n",
    "            hidden,cell = prev_hidden,prev_cell\n",
    "            \n",
    "            #print(prev_x)\n",
    "            #prev_x = prev_x[:,:,0:1]\n",
    "            #print(\"preve x shape is:\",prev_x.size())\n",
    "           \n",
    "            dec_input = prev_x\n",
    "            #print(f'dec_input: {dec_input.shape}')\n",
    "            \n",
    "            targets_ta.append(prev_x.reshape(-1, self.n_features))\n",
    "           \n",
    "            \n",
    "        \n",
    "        \n",
    "        targets = torch.stack(targets_ta)\n",
    "        \n",
    "        targets = targets.reshape(-1, self.output_length, self.n_features)\n",
    "\n",
    "        return targets"
   ]
  },
  {
   "cell_type": "markdown",
   "id": "8847aefc",
   "metadata": {},
   "source": [
    "## Making dataset"
   ]
  },
  {
   "cell_type": "code",
   "execution_count": 64,
   "id": "e487ac34",
   "metadata": {
    "ExecuteTime": {
     "end_time": "2022-02-14T06:56:08.417296Z",
     "start_time": "2022-02-14T06:56:08.413414Z"
    }
   },
   "outputs": [],
   "source": [
    "class DatasetTs(Dataset):\n",
    "    def __init__(self, X, y = None):\n",
    "        self.X = X\n",
    "        self.y = y\n",
    "\n",
    "    def __len__(self):\n",
    "        return self.X.shape[0]\n",
    "\n",
    "    def __getitem__(self, index):\n",
    "        assert index < len(self), 'index {} is out of bounds'.format(index)\n",
    "        X = self.X[index]\n",
    "        \n",
    "        X = Variable(torch.tensor(X))\n",
    "\n",
    "        \n",
    "        if self.y is not None:\n",
    "            return X, Variable(torch.tensor(self.y[index]))\n",
    "\n",
    "        return X"
   ]
  },
  {
   "cell_type": "code",
   "execution_count": 65,
   "id": "5300975d",
   "metadata": {
    "ExecuteTime": {
     "end_time": "2022-02-14T06:56:08.828684Z",
     "start_time": "2022-02-14T06:56:08.826381Z"
    }
   },
   "outputs": [],
   "source": [
    "train = DatasetTs(TrainX, Trainy)\n",
    "valid = DatasetTs(ValidX, Validy)"
   ]
  },
  {
   "cell_type": "code",
   "execution_count": 66,
   "id": "f6a6aacb",
   "metadata": {
    "ExecuteTime": {
     "end_time": "2022-02-14T06:56:09.480227Z",
     "start_time": "2022-02-14T06:56:09.477471Z"
    }
   },
   "outputs": [],
   "source": [
    "BATCH_SIZE = 128\n",
    "\n",
    "train_loader = DataLoader(train, batch_size=BATCH_SIZE, shuffle=False)\n",
    "valid_loader = DataLoader(valid, batch_size=BATCH_SIZE, shuffle=False)"
   ]
  },
  {
   "cell_type": "code",
   "execution_count": 67,
   "id": "a0a1d1a4",
   "metadata": {
    "ExecuteTime": {
     "end_time": "2022-02-14T06:56:09.996858Z",
     "start_time": "2022-02-14T06:56:09.993257Z"
    }
   },
   "outputs": [
    {
     "data": {
      "text/plain": [
       "153"
      ]
     },
     "execution_count": 67,
     "metadata": {},
     "output_type": "execute_result"
    }
   ],
   "source": [
    "TrainX.shape[2]"
   ]
  },
  {
   "cell_type": "markdown",
   "id": "88ed932a",
   "metadata": {},
   "source": [
    "## Train model"
   ]
  },
  {
   "cell_type": "code",
   "execution_count": 68,
   "id": "12326087",
   "metadata": {
    "ExecuteTime": {
     "end_time": "2022-02-14T06:56:52.190285Z",
     "start_time": "2022-02-14T06:56:25.948225Z"
    }
   },
   "outputs": [
    {
     "data": {
      "text/plain": [
       "Seq2Seq(\n",
       "  (encoder): Encoder(\n",
       "    (rnn1): LSTM(153, 9180, num_layers=3, batch_first=True, dropout=0.3)\n",
       "  )\n",
       "  (decoder): Decoder(\n",
       "    (rnn1): LSTM(153, 9180, num_layers=3, batch_first=True, dropout=0.3)\n",
       "    (output_layer): Linear(in_features=9180, out_features=153, bias=True)\n",
       "  )\n",
       ")"
      ]
     },
     "execution_count": 68,
     "metadata": {},
     "output_type": "execute_result"
    }
   ],
   "source": [
    "n_features = TrainX.shape[2] # number of timeseries \n",
    "hidden_dim = 60 * n_features # hidden dim\n",
    "output_length = 28 # number of days to predict \n",
    "\n",
    "model = Seq2Seq(seq_length, n_features, hidden_dim, output_length)\n",
    "\n",
    "model"
   ]
  },
  {
   "cell_type": "code",
   "execution_count": 69,
   "id": "d4c620ec",
   "metadata": {
    "ExecuteTime": {
     "end_time": "2022-02-14T07:07:25.051140Z",
     "start_time": "2022-02-14T07:07:25.047965Z"
    }
   },
   "outputs": [],
   "source": [
    "from tqdm import tqdm"
   ]
  },
  {
   "cell_type": "code",
   "execution_count": 70,
   "id": "9e28ec68",
   "metadata": {
    "ExecuteTime": {
     "end_time": "2022-02-14T07:07:25.393472Z",
     "start_time": "2022-02-14T07:07:25.389962Z"
    }
   },
   "outputs": [
    {
     "data": {
      "text/plain": [
       "(torch.Size([1433, 90, 153]), torch.Size([1433, 28, 153]))"
      ]
     },
     "execution_count": 70,
     "metadata": {},
     "output_type": "execute_result"
    }
   ],
   "source": [
    "TrainX.shape, Trainy.shape"
   ]
  },
  {
   "cell_type": "code",
   "execution_count": 71,
   "id": "241557b1",
   "metadata": {
    "ExecuteTime": {
     "end_time": "2022-02-14T07:07:26.718230Z",
     "start_time": "2022-02-14T07:07:26.715039Z"
    }
   },
   "outputs": [
    {
     "data": {
      "text/plain": [
       "False"
      ]
     },
     "execution_count": 71,
     "metadata": {},
     "output_type": "execute_result"
    }
   ],
   "source": [
    "torch.cuda.is_available()"
   ]
  },
  {
   "cell_type": "code",
   "execution_count": 22,
   "id": "ff7a287d",
   "metadata": {
    "ExecuteTime": {
     "end_time": "2022-02-13T17:18:50.056203Z",
     "start_time": "2022-02-13T17:18:50.052494Z"
    }
   },
   "outputs": [
    {
     "name": "stdout",
     "output_type": "stream",
     "text": [
      "device is: cpu\n"
     ]
    }
   ],
   "source": [
    "device = torch.device('cuda' if torch.cuda.is_available() else 'cpu')\n",
    "print(\"device is:\",device)"
   ]
  },
  {
   "cell_type": "code",
   "execution_count": null,
   "id": "d7bb600a",
   "metadata": {
    "ExecuteTime": {
     "start_time": "2022-02-14T07:06:04.639Z"
    }
   },
   "outputs": [
    {
     "data": {
      "image/png": "[encoded data removed]",
      "text/plain": [
       "<Figure size 432x288 with 1 Axes>"
      ]
     },
     "metadata": {
      "needs_background": "light"
     },
     "output_type": "display_data"
    },
    {
     "name": "stdout",
     "output_type": "stream",
     "text": [
      "Epoch 14: train loss 0.8329746375481287 val loss 0.6791648864746094\n"
     ]
    },
    {
     "name": "stderr",
     "output_type": "stream",
     "text": [
      "  8%|█████████▍                                                                                                       | 1/12 [08:41<1:35:34, 521.33s/it]"
     ]
    }
   ],
   "source": [
    "optimizer = torch.optim.Adam(model.parameters(), lr=5e-3)\n",
    "criterion = torch.nn.MSELoss()\n",
    "#scheduler = torch.optim.lr_scheduler.ReduceLROnPlateau(optimizer, patience=10, factor=0.5 ,min_lr=1e-3, eps=1e-08)\n",
    "best_loss = 10\n",
    "n_epochs = 200\n",
    "\n",
    "history = dict(train=[], val=[])\n",
    "\n",
    "for epoch in range(n_epochs):\n",
    "    model = model.train()\n",
    "\n",
    "    train_losses = []\n",
    "    for X_train, y_train in tqdm(train_loader):\n",
    "        #seq_inp = TrainX[i,:,:]\n",
    "        #seq_true = Trainy[i,:,:]\n",
    "        prevs_y = X_train[:, -1:, :]\n",
    "        #print(X_train.shape)\n",
    "        #print(X_train)\n",
    "        #print(prevs_y)\n",
    "        #break\n",
    "\n",
    "        #print(f'prev_y {seq_inp[seq_length-1:seq_length,:]}')\n",
    "        seq_pred = model(X_train, prevs_y)#seq_inp[seq_length-1:seq_length,:])\n",
    "        #print(seq_pred.shape)\n",
    "        #print(y_train.shape)\n",
    "        #print(seq_pred.shape)\n",
    "        #print(y_train.shape)\n",
    "        optimizer.zero_grad()\n",
    "        \n",
    "        loss = criterion(seq_pred, y_train)\n",
    "        \n",
    "        #print(loss.item())\n",
    "        \n",
    "\n",
    "        loss.backward()\n",
    "\n",
    "        torch.nn.utils.clip_grad_norm_(model.parameters(), 1)\n",
    "        optimizer.step()\n",
    "\n",
    "        train_losses.append(loss.item())\n",
    "\n",
    "    val_losses = []\n",
    "    model = model.eval()\n",
    "    with torch.no_grad():\n",
    "        for X_valid, y_valid in valid_loader:\n",
    "            #seq_inp = ValidX[i,:,:]\n",
    "            #seq_true = Validy[i,:,:]\n",
    "            prevs_y = X_valid[:, -1:, :]\n",
    "\n",
    "            seq_pred = model(X_valid,prevs_y)\n",
    "\n",
    "           \n",
    "            loss = criterion(seq_pred, y_valid)\n",
    "            val_losses.append(loss.item())\n",
    "\n",
    "    train_loss = np.mean(train_losses)\n",
    "    val_loss = np.mean(val_losses)\n",
    "\n",
    "    history['train'].append(train_loss)\n",
    "    history['val'].append(val_loss)\n",
    "\n",
    "    \n",
    "\n",
    "    \n",
    "    \n",
    "    clear_output(True)\n",
    "\n",
    "    plt.xlabel('epoch')\n",
    "    plt.ylabel('loss')\n",
    "    plt.plot(history['train'], label='train loss')\n",
    "    plt.plot(history['val'], label='val loss')\n",
    "\n",
    "    plt.legend()\n",
    "    plt.show()\n",
    "    \n",
    "    if val_loss < best_loss:\n",
    "        best_loss = val_loss\n",
    "        torch.save(model.state_dict(), 'best_model_n_features.pt')\n",
    "        print(\"saved best model epoch:\",epoch,\"val loss is:\",val_loss)\n",
    "    \n",
    "    print(f'Epoch {epoch}: train loss {train_loss} val loss {val_loss}')\n",
    "    \n",
    "    #scheduler.step(val_loss)"
   ]
  },
  {
   "cell_type": "code",
   "execution_count": 107,
   "id": "da67ae6f",
   "metadata": {},
   "outputs": [],
   "source": [
    "model = model.eval()"
   ]
  },
  {
   "cell_type": "code",
   "execution_count": 108,
   "id": "e44a0a22",
   "metadata": {},
   "outputs": [],
   "source": [
    "preds = []\n",
    "\n",
    "for i in range(len(ValidX)):\n",
    "    seq_inp = ValidX[i,:,:]\n",
    "    seq_pred = model(seq_inp,seq_inp[seq_length-1:seq_length,:]).detach().numpy()\n",
    "    \n",
    "    preds.append(seq_pred)"
   ]
  },
  {
   "cell_type": "code",
   "execution_count": 109,
   "id": "7fa712d1",
   "metadata": {},
   "outputs": [
    {
     "data": {
      "text/plain": [
       "(75, 1, 28, 153)"
      ]
     },
     "execution_count": 109,
     "metadata": {},
     "output_type": "execute_result"
    }
   ],
   "source": [
    "predy = np.array(preds)\n",
    "predy.shape"
   ]
  },
  {
   "cell_type": "code",
   "execution_count": 50,
   "id": "7709465d",
   "metadata": {
    "ExecuteTime": {
     "end_time": "2022-02-14T06:12:54.563253Z",
     "start_time": "2022-02-14T06:12:54.559690Z"
    }
   },
   "outputs": [
    {
     "data": {
      "text/plain": [
       "(75, 28, 153)"
      ]
     },
     "execution_count": 50,
     "metadata": {},
     "output_type": "execute_result"
    }
   ],
   "source": [
    "valy = Validy.detach().numpy()\n",
    "valy.shape"
   ]
  },
  {
   "cell_type": "code",
   "execution_count": 111,
   "id": "ca111f0f",
   "metadata": {},
   "outputs": [
    {
     "data": {
      "text/plain": [
       "<matplotlib.legend.Legend at 0x7f93cda039d0>"
      ]
     },
     "execution_count": 111,
     "metadata": {},
     "output_type": "execute_result"
    },
    {
     "data": {
      "image/png": "[encoded data removed]",
      "text/plain": [
       "<Figure size 432x288 with 1 Axes>"
      ]
     },
     "metadata": {
      "needs_background": "light"
     },
     "output_type": "display_data"
    }
   ],
   "source": [
    "plt.plot(\n",
    "    predy[:, 0, 0, 0],\n",
    "    label='pred'\n",
    ")\n",
    "\n",
    "#plt.plot(\n",
    "#    valy[:, 0, 0],\n",
    "#    label='true'\n",
    "#)\n",
    "\n",
    "plt.legend()"
   ]
  },
  {
   "cell_type": "code",
   "execution_count": 112,
   "id": "96c725d5",
   "metadata": {},
   "outputs": [
    {
     "data": {
      "text/plain": [
       "<matplotlib.legend.Legend at 0x7f8f1aa53490>"
      ]
     },
     "execution_count": 112,
     "metadata": {},
     "output_type": "execute_result"
    },
    {
     "data": {
      "image/png": "[encoded data removed]",
      "text/plain": [
       "<Figure size 432x288 with 1 Axes>"
      ]
     },
     "metadata": {
      "needs_background": "light"
     },
     "output_type": "display_data"
    }
   ],
   "source": [
    "plt.plot(\n",
    "    valy[:, 0, 0],\n",
    "    label='true'\n",
    ")\n",
    "\n",
    "plt.legend()"
   ]
  },
  {
   "cell_type": "markdown",
   "id": "277eb47f",
   "metadata": {},
   "source": [
    "## Grid search best params"
   ]
  },
  {
   "cell_type": "code",
   "execution_count": 40,
   "id": "4e957959",
   "metadata": {
    "ExecuteTime": {
     "end_time": "2022-02-13T22:54:56.614780Z",
     "start_time": "2022-02-13T18:13:08.337856Z"
    }
   },
   "outputs": [
    {
     "data": {
      "image/png": "[encoded data removed]",
      "text/plain": [
       "<Figure size 432x288 with 1 Axes>"
      ]
     },
     "metadata": {
      "needs_background": "light"
     },
     "output_type": "display_data"
    },
    {
     "name": "stdout",
     "output_type": "stream",
     "text": [
      "Epoch 99: train loss 0.0262331102664272 val loss 0.026355091482400894\n"
     ]
    }
   ],
   "source": [
    "best_loss = 10\n",
    "lrs = [1e-2, 5e-3, 1e-3, 7e-3, 3e-3]\n",
    "\n",
    "for lr in lrs:\n",
    "    n_features = TrainX.shape[2] # number of timeseries \n",
    "    hidden_dim = 640 # hidden dim\n",
    "    output_length = 28 # number of days to predict \n",
    "\n",
    "    model = Seq2Seq(seq_length, n_features, hidden_dim, output_length)\n",
    "\n",
    "    optimizer = torch.optim.Adam(model.parameters(), lr=lr)\n",
    "    criterion = torch.nn.MSELoss()\n",
    "\n",
    "    n_epochs = 100\n",
    "\n",
    "    history = dict(train=[], val=[])\n",
    "\n",
    "    for epoch in range(n_epochs):\n",
    "        model = model.train()\n",
    "\n",
    "        train_losses = []\n",
    "        for X_train, y_train in tqdm(train_loader):\n",
    "            #seq_inp = TrainX[i,:,:]\n",
    "            #seq_true = Trainy[i,:,:]\n",
    "            prevs_y = X_train[:, -1:, :]\n",
    "            #print(X_train.shape)\n",
    "            #print(X_train)\n",
    "            #print(prevs_y)\n",
    "            #break\n",
    "\n",
    "            #print(f'prev_y {seq_inp[seq_length-1:seq_length,:]}')\n",
    "            seq_pred = model(X_train, prevs_y)#seq_inp[seq_length-1:seq_length,:])\n",
    "            #print(seq_pred.shape)\n",
    "            #print(y_train.shape)\n",
    "            #print(seq_pred.shape)\n",
    "            #print(y_train.shape)\n",
    "            optimizer.zero_grad()\n",
    "\n",
    "            loss = criterion(seq_pred, y_train)\n",
    "\n",
    "            #print(loss.item())\n",
    "\n",
    "\n",
    "            loss.backward()\n",
    "\n",
    "            #torch.nn.utils.clip_grad_norm_(model.parameters(), 1)\n",
    "            optimizer.step()\n",
    "\n",
    "            train_losses.append(loss.item())\n",
    "\n",
    "        val_losses = []\n",
    "        model = model.eval()\n",
    "        with torch.no_grad():\n",
    "            for X_valid, y_valid in valid_loader:\n",
    "                #seq_inp = ValidX[i,:,:]\n",
    "                #seq_true = Validy[i,:,:]\n",
    "                prevs_y = X_valid[:, -1:, :]\n",
    "\n",
    "                seq_pred = model(X_valid,prevs_y)\n",
    "\n",
    "\n",
    "                loss = criterion(seq_pred, y_valid)\n",
    "                val_losses.append(loss.item())\n",
    "\n",
    "        train_loss = np.mean(train_losses)\n",
    "        val_loss = np.mean(val_losses)\n",
    "\n",
    "        history['train'].append(train_loss)\n",
    "        history['val'].append(val_loss)\n",
    "\n",
    "\n",
    "\n",
    "\n",
    "\n",
    "        clear_output(True)\n",
    "\n",
    "        plt.xlabel('epoch')\n",
    "        plt.ylabel('loss')\n",
    "        plt.plot(history['train'], label='train loss')\n",
    "        plt.plot(history['val'], label='val loss')\n",
    "\n",
    "        plt.legend()\n",
    "        plt.show()\n",
    "\n",
    "        if val_loss < best_loss:\n",
    "            best_loss = val_loss\n",
    "            torch.save(model.state_dict(), f'best_model_epoch_{epoch}_lr_{lr}_loss_{val_loss}.pt')\n",
    "            print(\"saved best model epoch:\",epoch,\"val loss is:\",val_loss)\n",
    "\n",
    "        print(f'Epoch {epoch}: train loss {train_loss} val loss {val_loss}')\n",
    "\n",
    "        #scheduler.step(val_loss)"
   ]
  },
  {
   "cell_type": "code",
   "execution_count": 41,
   "id": "1a6da694",
   "metadata": {
    "ExecuteTime": {
     "end_time": "2022-02-14T04:04:07.782734Z",
     "start_time": "2022-02-13T22:54:56.616800Z"
    }
   },
   "outputs": [
    {
     "data": {
      "image/png": "[encoded data removed]",
      "text/plain": [
       "<Figure size 432x288 with 1 Axes>"
      ]
     },
     "metadata": {
      "needs_background": "light"
     },
     "output_type": "display_data"
    },
    {
     "name": "stdout",
     "output_type": "stream",
     "text": [
      "Epoch 99: train loss 0.017439514864236116 val loss 0.022354723885655403\n"
     ]
    }
   ],
   "source": [
    "lrs = [1e-2, 5e-3, 1e-3, 7e-3, 3e-3]\n",
    "\n",
    "for lr in lrs:\n",
    "    n_features = TrainX.shape[2] # number of timeseries \n",
    "    hidden_dim = 640 # hidden dim\n",
    "    output_length = 28 # number of days to predict \n",
    "    \n",
    "    model = Seq2Seq(seq_length, n_features, hidden_dim, output_length)\n",
    "\n",
    "    optimizer = torch.optim.Adam(model.parameters(), lr=lr)\n",
    "    criterion = torch.nn.MSELoss()\n",
    "    scheduler = torch.optim.lr_scheduler.ReduceLROnPlateau(optimizer, patience=10, factor=0.5 ,min_lr=1e-3, eps=1e-08)\n",
    "\n",
    "    n_epochs = 100\n",
    "\n",
    "    history = dict(train=[], val=[])\n",
    "\n",
    "    for epoch in range(n_epochs):\n",
    "        model = model.train()\n",
    "\n",
    "        train_losses = []\n",
    "        for X_train, y_train in tqdm(train_loader):\n",
    "            #seq_inp = TrainX[i,:,:]\n",
    "            #seq_true = Trainy[i,:,:]\n",
    "            prevs_y = X_train[:, -1:, :]\n",
    "            #print(X_train.shape)\n",
    "            #print(X_train)\n",
    "            #print(prevs_y)\n",
    "            #break\n",
    "\n",
    "            #print(f'prev_y {seq_inp[seq_length-1:seq_length,:]}')\n",
    "            seq_pred = model(X_train, prevs_y)#seq_inp[seq_length-1:seq_length,:])\n",
    "            #print(seq_pred.shape)\n",
    "            #print(y_train.shape)\n",
    "            #print(seq_pred.shape)\n",
    "            #print(y_train.shape)\n",
    "            optimizer.zero_grad()\n",
    "\n",
    "            loss = criterion(seq_pred, y_train)\n",
    "\n",
    "            #print(loss.item())\n",
    "\n",
    "\n",
    "            loss.backward()\n",
    "\n",
    "            #torch.nn.utils.clip_grad_norm_(model.parameters(), 1)\n",
    "            optimizer.step()\n",
    "\n",
    "            train_losses.append(loss.item())\n",
    "\n",
    "        val_losses = []\n",
    "        model = model.eval()\n",
    "        with torch.no_grad():\n",
    "            for X_valid, y_valid in valid_loader:\n",
    "                #seq_inp = ValidX[i,:,:]\n",
    "                #seq_true = Validy[i,:,:]\n",
    "                prevs_y = X_valid[:, -1:, :]\n",
    "\n",
    "                seq_pred = model(X_valid,prevs_y)\n",
    "\n",
    "\n",
    "                loss = criterion(seq_pred, y_valid)\n",
    "                val_losses.append(loss.item())\n",
    "\n",
    "        train_loss = np.mean(train_losses)\n",
    "        val_loss = np.mean(val_losses)\n",
    "\n",
    "        history['train'].append(train_loss)\n",
    "        history['val'].append(val_loss)\n",
    "\n",
    "\n",
    "\n",
    "\n",
    "\n",
    "        clear_output(True)\n",
    "\n",
    "        plt.xlabel('epoch')\n",
    "        plt.ylabel('loss')\n",
    "        plt.plot(history['train'], label='train loss')\n",
    "        plt.plot(history['val'], label='val loss')\n",
    "\n",
    "        plt.legend()\n",
    "        plt.show()\n",
    "\n",
    "        if val_loss < best_loss:\n",
    "            best_loss = val_loss\n",
    "            torch.save(model.state_dict(), f'best_model_wsch_epoch_{epoch}_lr_{lr}_loss_{val_loss}.pt')\n",
    "            print(\"saved best model epoch:\",epoch,\"val loss is:\",val_loss)\n",
    "\n",
    "        print(f'Epoch {epoch}: train loss {train_loss} val loss {val_loss}')\n",
    "\n",
    "        scheduler.step(val_loss)"
   ]
  },
  {
   "cell_type": "code",
   "execution_count": 44,
   "id": "32a858b9",
   "metadata": {
    "ExecuteTime": {
     "end_time": "2022-02-14T06:11:10.422580Z",
     "start_time": "2022-02-14T06:11:10.266229Z"
    }
   },
   "outputs": [
    {
     "data": {
      "text/plain": [
       "Seq2Seq(\n",
       "  (encoder): Encoder(\n",
       "    (rnn1): LSTM(153, 640, num_layers=3, batch_first=True, dropout=0.35)\n",
       "  )\n",
       "  (decoder): Decoder(\n",
       "    (rnn1): LSTM(153, 640, num_layers=3, batch_first=True, dropout=0.35)\n",
       "    (output_layer): Linear(in_features=640, out_features=153, bias=True)\n",
       "  )\n",
       ")"
      ]
     },
     "execution_count": 44,
     "metadata": {},
     "output_type": "execute_result"
    }
   ],
   "source": [
    "best_model = Seq2Seq(seq_length, n_features, hidden_dim, output_length)\n",
    "best_model.load_state_dict(torch.load('best_model_wsch_epoch_46_lr_0.003_loss_0.02204580046236515.pt'))\n",
    "best_model.eval()"
   ]
  },
  {
   "cell_type": "code",
   "execution_count": 46,
   "id": "96d4fa7c",
   "metadata": {
    "ExecuteTime": {
     "end_time": "2022-02-14T06:11:50.818156Z",
     "start_time": "2022-02-14T06:11:44.616071Z"
    }
   },
   "outputs": [],
   "source": [
    "preds = []\n",
    "\n",
    "for i in range(len(ValidX)):\n",
    "    seq_inp = ValidX[i,:,:]\n",
    "    seq_pred = model(seq_inp,seq_inp[seq_length-1:seq_length,:]).detach().numpy()\n",
    "    \n",
    "    preds.append(seq_pred)"
   ]
  },
  {
   "cell_type": "code",
   "execution_count": 47,
   "id": "5406cf09",
   "metadata": {
    "ExecuteTime": {
     "end_time": "2022-02-14T06:12:40.650092Z",
     "start_time": "2022-02-14T06:12:40.645906Z"
    }
   },
   "outputs": [],
   "source": [
    "predy = np.array(preds)"
   ]
  },
  {
   "cell_type": "code",
   "execution_count": 56,
   "id": "94eec2c0",
   "metadata": {
    "ExecuteTime": {
     "end_time": "2022-02-14T06:14:01.255866Z",
     "start_time": "2022-02-14T06:14:01.247135Z"
    }
   },
   "outputs": [
    {
     "data": {
      "text/plain": [
       "((75, 1, 28, 153), (75, 28, 153))"
      ]
     },
     "execution_count": 56,
     "metadata": {},
     "output_type": "execute_result"
    }
   ],
   "source": [
    "predy.shape, valy.shape"
   ]
  },
  {
   "cell_type": "code",
   "execution_count": 60,
   "id": "f92774ab",
   "metadata": {
    "ExecuteTime": {
     "end_time": "2022-02-14T06:16:12.493212Z",
     "start_time": "2022-02-14T06:16:12.370349Z"
    }
   },
   "outputs": [
    {
     "data": {
      "text/plain": [
       "<matplotlib.legend.Legend at 0x7ff9934518e0>"
      ]
     },
     "execution_count": 60,
     "metadata": {},
     "output_type": "execute_result"
    },
    {
     "data": {
      "image/png": "[encoded data removed]",
      "text/plain": [
       "<Figure size 432x288 with 1 Axes>"
      ]
     },
     "metadata": {
      "needs_background": "light"
     },
     "output_type": "display_data"
    }
   ],
   "source": [
    "plt.plot(\n",
    "    predy[:, 0, 27, 0],\n",
    "    label='pred'\n",
    ")\n",
    "\n",
    "\n",
    "plt.legend()"
   ]
  },
  {
   "cell_type": "code",
   "execution_count": 59,
   "id": "7183e7e1",
   "metadata": {
    "ExecuteTime": {
     "end_time": "2022-02-14T06:16:08.265900Z",
     "start_time": "2022-02-14T06:16:08.142277Z"
    }
   },
   "outputs": [
    {
     "data": {
      "text/plain": [
       "[<matplotlib.lines.Line2D at 0x7ff99364fe20>]"
      ]
     },
     "execution_count": 59,
     "metadata": {},
     "output_type": "execute_result"
    },
    {
     "data": {
      "image/png": "[encoded data removed]",
      "text/plain": [
       "<Figure size 432x288 with 1 Axes>"
      ]
     },
     "metadata": {
      "needs_background": "light"
     },
     "output_type": "display_data"
    }
   ],
   "source": [
    "plt.plot(\n",
    "    valy[:, 27, 0],\n",
    "    label='true'\n",
    ")"
   ]
  },
  {
   "cell_type": "code",
   "execution_count": null,
   "id": "6ce2dc04",
   "metadata": {},
   "outputs": [],
   "source": []
  }
 ],
 "metadata": {
  "kernelspec": {
   "display_name": "Python 3 (ipykernel)",
   "language": "python",
   "name": "python3"
  },
  "language_info": {
   "codemirror_mode": {
    "name": "ipython",
    "version": 3
   },
   "file_extension": ".py",
   "mimetype": "text/x-python",
   "name": "python",
   "nbconvert_exporter": "python",
   "pygments_lexer": "ipython3",
   "version": "3.9.7"
  }
 },
 "nbformat": 4,
 "nbformat_minor": 5
}
