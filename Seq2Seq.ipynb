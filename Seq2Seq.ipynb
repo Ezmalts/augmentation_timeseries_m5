{
 "cells": [
  {
   "cell_type": "code",
   "execution_count": 1,
   "id": "340b6b93",
   "metadata": {},
   "outputs": [],
   "source": [
    "import numpy as np\n",
    "import matplotlib.pyplot as plt\n",
    "import pandas as pd\n",
    "import torch\n",
    "import torch.nn as nn\n",
    "from torch.autograd import Variable\n",
    "from sklearn.preprocessing import MinMaxScaler\n",
    "from torch.utils.data import DataLoader, Dataset\n",
    "from IPython.display import clear_output"
   ]
  },
  {
   "cell_type": "code",
   "execution_count": 131,
   "id": "4c5d4159",
   "metadata": {},
   "outputs": [],
   "source": [
    "training_set = pd.read_csv('train_ts_top20.csv', index_col='item_id')"
   ]
  },
  {
   "cell_type": "code",
   "execution_count": 132,
   "id": "e6eb25d6",
   "metadata": {},
   "outputs": [
    {
     "data": {
      "text/plain": [
       "d_1       23250\n",
       "d_2       22486\n",
       "d_3       17119\n",
       "d_4       18764\n",
       "d_5       13952\n",
       "          ...  \n",
       "d_1937    22148\n",
       "d_1938    21871\n",
       "d_1939    25656\n",
       "d_1940    30845\n",
       "d_1941    32168\n",
       "Length: 1941, dtype: int64"
      ]
     },
     "execution_count": 132,
     "metadata": {},
     "output_type": "execute_result"
    }
   ],
   "source": [
    "training_set = training_set.sum(axis=0)\n",
    "\n",
    "training_set"
   ]
  },
  {
   "cell_type": "code",
   "execution_count": 133,
   "id": "52b21271",
   "metadata": {},
   "outputs": [],
   "source": [
    "training_set = training_set.T.values.reshape(-1, 1)"
   ]
  },
  {
   "cell_type": "code",
   "execution_count": 134,
   "id": "fe2235fd",
   "metadata": {},
   "outputs": [
    {
     "data": {
      "text/plain": [
       "array([[23250],\n",
       "       [22486],\n",
       "       [17119],\n",
       "       ...,\n",
       "       [25656],\n",
       "       [30845],\n",
       "       [32168]])"
      ]
     },
     "execution_count": 134,
     "metadata": {},
     "output_type": "execute_result"
    }
   ],
   "source": [
    "training_set"
   ]
  },
  {
   "cell_type": "code",
   "execution_count": 135,
   "id": "1a70c260",
   "metadata": {},
   "outputs": [],
   "source": [
    "train = training_set[:int(0.8 * len(training_set))]\n",
    "valid = training_set[int(0.8 * len(training_set)):]"
   ]
  },
  {
   "cell_type": "code",
   "execution_count": 136,
   "id": "dab3247c",
   "metadata": {},
   "outputs": [],
   "source": [
    "def sliding_windows(data, seq_length, pred_length):\n",
    "    x = []\n",
    "    y = []\n",
    "\n",
    "    for i in range(len(data)-seq_length-1-pred_length):\n",
    "        _x = data[i:(i+seq_length)]\n",
    "        _y = data[i+seq_length:i+pred_length+seq_length]\n",
    "        x.append(_x)\n",
    "        y.append(_y)\n",
    "\n",
    "    return np.array(x),np.array(y)\n",
    "\n",
    "sc = MinMaxScaler()\n",
    "\n",
    "train = sc.fit_transform(train)\n",
    "valid = sc.transform(valid)\n",
    "\n",
    "seq_length = 90\n",
    "pred_length = 28\n",
    "x_train, y_train = sliding_windows(train, seq_length, pred_length)\n",
    "x_valid, y_valid = sliding_windows(valid, seq_length, pred_length)\n",
    "\n",
    "\n",
    "TrainX = Variable(torch.Tensor(np.array(x_train)))\n",
    "Trainy = Variable(torch.Tensor(np.array(y_train)))\n",
    "ValidX = Variable(torch.Tensor(np.array(x_valid)))\n",
    "Validy = Variable(torch.Tensor(np.array(y_valid)))"
   ]
  },
  {
   "cell_type": "code",
   "execution_count": 169,
   "id": "434f75f6",
   "metadata": {},
   "outputs": [
    {
     "data": {
      "text/plain": [
       "torch.Size([1433, 90, 1])"
      ]
     },
     "execution_count": 169,
     "metadata": {},
     "output_type": "execute_result"
    }
   ],
   "source": [
    "TrainX.shape"
   ]
  },
  {
   "cell_type": "markdown",
   "id": "6e66a448",
   "metadata": {},
   "source": [
    "## Encoder "
   ]
  },
  {
   "cell_type": "code",
   "execution_count": 176,
   "id": "ae2e94a5",
   "metadata": {},
   "outputs": [],
   "source": [
    "class Encoder(nn.Module):\n",
    "    def __init__(self, seq_len, n_features, embedding_dim=64):\n",
    "        super(Encoder, self).__init__()\n",
    "\n",
    "        self.seq_len, self.n_features = seq_len, n_features\n",
    "        self.embedding_dim, self.hidden_dim = embedding_dim,  embedding_dim\n",
    "        self.num_layers = 3\n",
    "        self.rnn1 = nn.LSTM(\n",
    "          input_size=n_features,\n",
    "          hidden_size=self.hidden_dim,\n",
    "          num_layers=3,\n",
    "          batch_first=True,\n",
    "          #dropout = 0.35\n",
    "        )\n",
    "   \n",
    "    def forward(self, x):\n",
    "       \n",
    "        x = x.reshape((1, self.seq_len, self.n_features))\n",
    "        #print(x.shape)\n",
    "        \n",
    "        h_1 = Variable(torch.zeros(\n",
    "            self.num_layers, x.size(0), self.hidden_dim))\n",
    "         \n",
    "        \n",
    "        c_1 = Variable(torch.zeros(\n",
    "            self.num_layers, x.size(0), self.hidden_dim))\n",
    "              \n",
    "        x, (hidden, cell) = self.rnn1(x,(h_1, c_1))\n",
    "        \n",
    "        \n",
    "        return hidden , cell "
   ]
  },
  {
   "cell_type": "markdown",
   "id": "2c7b8eff",
   "metadata": {},
   "source": [
    "## Decoder "
   ]
  },
  {
   "cell_type": "code",
   "execution_count": 177,
   "id": "cd7c2369",
   "metadata": {},
   "outputs": [],
   "source": [
    "class Decoder(nn.Module):\n",
    "    def __init__(self, seq_len, input_dim=64, n_features=1):\n",
    "        super(Decoder, self).__init__()\n",
    "\n",
    "        self.seq_len, self.input_dim = seq_len, input_dim\n",
    "        self.hidden_dim, self.n_features =  input_dim, n_features\n",
    "        \n",
    "        self.rnn1 = nn.LSTM(\n",
    "          input_size=n_features,\n",
    "          hidden_size=input_dim,\n",
    "          num_layers=3,\n",
    "          batch_first=True,\n",
    "          #dropout = 0.35\n",
    "        )\n",
    "        \n",
    "        \n",
    "      \n",
    "        self.output_layer = nn.Linear(self.hidden_dim, n_features)\n",
    "\n",
    "    def forward(self, x, input_hidden, input_cell):\n",
    "       \n",
    "       \n",
    "        x = x.reshape((1,1,self.n_features))\n",
    "        #print(\"decode input\",x.size())\n",
    "             \n",
    "\n",
    "        x, (hidden_n, cell_n) = self.rnn1(x,(input_hidden,input_cell))\n",
    "    \n",
    "        x = self.output_layer(x)\n",
    "        #print(f'forward decoder: {x.shape}')\n",
    "        return x, hidden_n, cell_n"
   ]
  },
  {
   "cell_type": "markdown",
   "id": "0bdd99df",
   "metadata": {},
   "source": [
    "## Seq2seq"
   ]
  },
  {
   "cell_type": "code",
   "execution_count": 191,
   "id": "95bf7def",
   "metadata": {},
   "outputs": [],
   "source": [
    "class Seq2Seq(nn.Module):\n",
    "\n",
    "    def __init__(self, seq_len, n_features, embedding_dim=64,output_length = 28):\n",
    "        super(Seq2Seq, self).__init__()\n",
    "\n",
    "        self.encoder = Encoder(seq_len, n_features, embedding_dim)\n",
    "        self.n_features = n_features\n",
    "        self.output_length = output_length\n",
    "        self.decoder = Decoder(seq_len, embedding_dim, n_features)\n",
    "        \n",
    "\n",
    "    def forward(self, x, prev_y):\n",
    "        hidden,cell = self.encoder(x)\n",
    "        \n",
    "        #Prepare place holder for decoder output\n",
    "        targets_ta = []\n",
    "        #prev_output become the next input to the LSTM cell\n",
    "        dec_input = prev_y\n",
    "        \n",
    "\n",
    "        \n",
    "        #itearate over LSTM - according to the required output days\n",
    "        for out_days in range(self.output_length) :\n",
    "            \n",
    "          \n",
    "            prev_x,prev_hidden,prev_cell = self.decoder(dec_input,hidden,cell)\n",
    "            hidden,cell = prev_hidden,prev_cell\n",
    "            \n",
    "            #print(prev_x)\n",
    "            #prev_x = prev_x[:,:,0:1]\n",
    "            #print(\"preve x shape is:\",prev_x.size())\n",
    "           \n",
    "            dec_input = prev_x\n",
    "            \n",
    "            targets_ta.append(prev_x.reshape(self.n_features))\n",
    "           \n",
    "            \n",
    "        \n",
    "        \n",
    "        targets = torch.stack(targets_ta)\n",
    "\n",
    "        return targets"
   ]
  },
  {
   "cell_type": "markdown",
   "id": "88ed932a",
   "metadata": {},
   "source": [
    "## Train model"
   ]
  },
  {
   "cell_type": "code",
   "execution_count": 192,
   "id": "12326087",
   "metadata": {},
   "outputs": [
    {
     "data": {
      "text/plain": [
       "Seq2Seq(\n",
       "  (encoder): Encoder(\n",
       "    (rnn1): LSTM(1, 90, num_layers=3, batch_first=True)\n",
       "  )\n",
       "  (decoder): Decoder(\n",
       "    (rnn1): LSTM(1, 90, num_layers=3, batch_first=True)\n",
       "    (output_layer): Linear(in_features=90, out_features=1, bias=True)\n",
       "  )\n",
       ")"
      ]
     },
     "execution_count": 192,
     "metadata": {},
     "output_type": "execute_result"
    }
   ],
   "source": [
    "n_features = TrainX.shape[2]\n",
    "hidden_dim = 90 * n_features\n",
    "\n",
    "model = Seq2Seq(seq_length, n_features, hidden_dim)\n",
    "\n",
    "model"
   ]
  },
  {
   "cell_type": "code",
   "execution_count": 193,
   "id": "d4c620ec",
   "metadata": {},
   "outputs": [],
   "source": [
    "from tqdm import tqdm"
   ]
  },
  {
   "cell_type": "code",
   "execution_count": 194,
   "id": "d7bb600a",
   "metadata": {},
   "outputs": [
    {
     "data": {
      "image/png": "[encoded data removed]",
      "text/plain": [
       "<Figure size 432x288 with 1 Axes>"
      ]
     },
     "metadata": {
      "needs_background": "light"
     },
     "output_type": "display_data"
    }
   ],
   "source": [
    "optimizer = torch.optim.Adam(model.parameters(), lr=1e-2, weight_decay=1e-5)\n",
    "criterion = torch.nn.MSELoss()\n",
    "scheduler = torch.optim.lr_scheduler.ReduceLROnPlateau(optimizer, patience=10, factor=0.5 ,min_lr=1e-7, eps=1e-08)\n",
    "\n",
    "n_epochs = 50\n",
    "\n",
    "history = dict(train=[], val=[])\n",
    "\n",
    "for epoch in range(n_epochs):\n",
    "    model = model.train()\n",
    "\n",
    "    train_losses = []\n",
    "    for i in tqdm(range(len(TrainX))):\n",
    "        seq_inp = TrainX[i,:,:]\n",
    "        seq_true = Trainy[i,:,:]\n",
    "\n",
    "        optimizer.zero_grad()\n",
    "\n",
    "        #print(f'prev_y {seq_inp[seq_length-1:seq_length,:]}')\n",
    "        seq_pred = model(seq_inp,seq_inp[seq_length-1:seq_length,:])\n",
    "\n",
    "        \n",
    "        \n",
    "        loss = criterion(seq_pred, seq_true)\n",
    "        \n",
    "        #print(loss.item())\n",
    "        \n",
    "\n",
    "        loss.backward()\n",
    "\n",
    "        torch.nn.utils.clip_grad_norm_(model.parameters(), 1)\n",
    "        optimizer.step()\n",
    "\n",
    "        train_losses.append(loss.item())\n",
    "\n",
    "    val_losses = []\n",
    "    model = model.eval()\n",
    "    with torch.no_grad():\n",
    "        for i in range(len(ValidX)):\n",
    "            seq_inp = ValidX[i,:,:]\n",
    "            seq_true = Validy[i,:,:]\n",
    "\n",
    "\n",
    "            seq_pred = model(seq_inp,seq_inp[seq_length-1:seq_length,:])\n",
    "\n",
    "           \n",
    "            loss = criterion(seq_pred, seq_true)\n",
    "            val_losses.append(loss.item())\n",
    "\n",
    "    train_loss = np.mean(train_losses)\n",
    "    val_loss = np.mean(val_losses)\n",
    "\n",
    "    history['train'].append(train_loss)\n",
    "    history['val'].append(val_loss)\n",
    "\n",
    "    #if val_loss < best_loss:\n",
    "    #    best_loss = val_loss\n",
    "    #    torch.save(model.state_dict(), 'best_model_n_features.pt')\n",
    "    #    print(\"saved best model epoch:\",epoch,\"val loss is:\",val_loss)\n",
    "\n",
    "    #print(f'Epoch {epoch}: train loss {train_loss} val loss {val_loss}')\n",
    "    \n",
    "    clear_output(True)\n",
    "\n",
    "    plt.xlabel('epoch')\n",
    "    plt.ylabel('loss')\n",
    "    plt.plot(history['train'], label='train loss')\n",
    "    plt.plot(history['val'], label='val loss')\n",
    "\n",
    "    plt.legend()\n",
    "    plt.show()\n",
    "    \n",
    "    scheduler.step(val_loss)"
   ]
  },
  {
   "cell_type": "code",
   "execution_count": 195,
   "id": "da67ae6f",
   "metadata": {},
   "outputs": [],
   "source": [
    "model = model.eval()"
   ]
  },
  {
   "cell_type": "code",
   "execution_count": 196,
   "id": "e44a0a22",
   "metadata": {},
   "outputs": [],
   "source": [
    "preds = []\n",
    "\n",
    "for i in range(len(ValidX)):\n",
    "    seq_inp = ValidX[i,:,:]\n",
    "    seq_pred = model(seq_inp,seq_inp[seq_length-1:seq_length,:]).detach().numpy()\n",
    "    \n",
    "    preds.append(seq_pred)"
   ]
  },
  {
   "cell_type": "code",
   "execution_count": 197,
   "id": "7fa712d1",
   "metadata": {},
   "outputs": [
    {
     "data": {
      "text/plain": [
       "(270, 28, 1)"
      ]
     },
     "execution_count": 197,
     "metadata": {},
     "output_type": "execute_result"
    }
   ],
   "source": [
    "predy = np.array(preds)\n",
    "predy.shape"
   ]
  },
  {
   "cell_type": "code",
   "execution_count": 200,
   "id": "7709465d",
   "metadata": {},
   "outputs": [
    {
     "data": {
      "text/plain": [
       "(270, 28, 1)"
      ]
     },
     "execution_count": 200,
     "metadata": {},
     "output_type": "execute_result"
    }
   ],
   "source": [
    "valy = Validy.detach().numpy()\n",
    "valy.shape"
   ]
  },
  {
   "cell_type": "code",
   "execution_count": 201,
   "id": "ca111f0f",
   "metadata": {},
   "outputs": [
    {
     "data": {
      "text/plain": [
       "<matplotlib.legend.Legend at 0x7fe7d8ab7a60>"
      ]
     },
     "execution_count": 201,
     "metadata": {},
     "output_type": "execute_result"
    },
    {
     "data": {
      "image/png": "[encoded data removed]",
      "text/plain": [
       "<Figure size 432x288 with 1 Axes>"
      ]
     },
     "metadata": {
      "needs_background": "light"
     },
     "output_type": "display_data"
    }
   ],
   "source": [
    "plt.plot(\n",
    "    predy[:, 0, 0],\n",
    "    label='pred'\n",
    ")\n",
    "\n",
    "plt.plot(\n",
    "    valy[:, 0, 0],\n",
    "    label='true'\n",
    ")\n",
    "\n",
    "plt.legend()"
   ]
  },
  {
   "cell_type": "code",
   "execution_count": 110,
   "id": "1a6da694",
   "metadata": {},
   "outputs": [
    {
     "data": {
      "text/plain": [
       "<matplotlib.legend.Legend at 0x7fe7d705bd90>"
      ]
     },
     "execution_count": 110,
     "metadata": {},
     "output_type": "execute_result"
    },
    {
     "data": {
      "image/png": "[encoded data removed]",
      "text/plain": [
       "<Figure size 432x288 with 1 Axes>"
      ]
     },
     "metadata": {
      "needs_background": "light"
     },
     "output_type": "display_data"
    }
   ],
   "source": [
    "plt.plot(\n",
    "    np.sum(predy[:, 0, :], axis=1),\n",
    "    label='pred'\n",
    ")\n",
    "\n",
    "plt.plot(\n",
    "    np.sum(valy[:, 0, :], axis=1),\n",
    "    label='true'\n",
    ")\n",
    "\n",
    "plt.legend()"
   ]
  },
  {
   "cell_type": "code",
   "execution_count": null,
   "id": "32a858b9",
   "metadata": {},
   "outputs": [],
   "source": []
  }
 ],
 "metadata": {
  "kernelspec": {
   "display_name": "Python 3 (ipykernel)",
   "language": "python",
   "name": "python3"
  },
  "language_info": {
   "codemirror_mode": {
    "name": "ipython",
    "version": 3
   },
   "file_extension": ".py",
   "mimetype": "text/x-python",
   "name": "python",
   "nbconvert_exporter": "python",
   "pygments_lexer": "ipython3",
   "version": "3.9.7"
  }
 },
 "nbformat": 4,
 "nbformat_minor": 5
}
