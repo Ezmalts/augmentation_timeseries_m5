{
 "cells": [
  {
   "cell_type": "code",
   "execution_count": 242,
   "id": "f309a394",
   "metadata": {},
   "outputs": [],
   "source": [
    "import numpy as np\n",
    "import matplotlib.pyplot as plt\n",
    "import pandas as pd\n",
    "import torch\n",
    "import torch.nn as nn\n",
    "from torch.autograd import Variable\n",
    "from sklearn.preprocessing import MinMaxScaler\n",
    "from torch.utils.data import DataLoader, Dataset\n",
    "from IPython.display import clear_output\n",
    "import torch.nn.functional as F\n",
    "from ModelsLib import LSTM"
   ]
  },
  {
   "cell_type": "code",
   "execution_count": 243,
   "id": "f29672de",
   "metadata": {},
   "outputs": [],
   "source": [
    "training_set = pd.read_csv('train_ts_top5.csv', index_col='item_id')"
   ]
  },
  {
   "cell_type": "code",
   "execution_count": 244,
   "id": "7d1930dc",
   "metadata": {},
   "outputs": [],
   "source": [
    "training_set = training_set.T.values.reshape(-1, len(training_set))"
   ]
  },
  {
   "cell_type": "code",
   "execution_count": 245,
   "id": "08362d81",
   "metadata": {},
   "outputs": [],
   "source": [
    "train = training_set[:int(0.8 * len(training_set))]\n",
    "valid = training_set[int(0.8 * len(training_set)):int(0.9 * len(training_set))]\n",
    "test = training_set[int(0.9 * len(training_set)):]"
   ]
  },
  {
   "cell_type": "code",
   "execution_count": 246,
   "id": "e07e133c",
   "metadata": {},
   "outputs": [
    {
     "data": {
      "text/plain": [
       "(195, 153)"
      ]
     },
     "execution_count": 246,
     "metadata": {},
     "output_type": "execute_result"
    }
   ],
   "source": [
    "test.shape"
   ]
  },
  {
   "cell_type": "code",
   "execution_count": 247,
   "id": "af2558d8",
   "metadata": {},
   "outputs": [],
   "source": [
    "def sliding_windows(data, seq_length, pred_length):\n",
    "    x = []\n",
    "    y = []\n",
    "\n",
    "    for i in range(len(data)-seq_length-1-pred_length):\n",
    "        _x = data[i:(i+seq_length)]\n",
    "        _y = data[i+seq_length:i+pred_length+seq_length]\n",
    "        x.append(_x)\n",
    "        y.append(_y)\n",
    "\n",
    "    return np.array(x),np.array(y)\n",
    "\n",
    "sc =  MinMaxScaler()\n",
    "train = sc.fit_transform(train)\n",
    "valid = sc.transform(valid)\n",
    "test = sc.transform(test)\n",
    "\n",
    "seq_length = 90\n",
    "pred_length = 14\n",
    "\n",
    "x_train, y_train = sliding_windows(train, seq_length, pred_length)\n",
    "x_valid, y_valid = sliding_windows(valid, seq_length, pred_length)\n",
    "x_test, y_test = sliding_windows(test, seq_length, pred_length)\n",
    "\n",
    "\n",
    "trainX = Variable(torch.Tensor(np.array(x_train)))\n",
    "trainy = Variable(torch.Tensor(np.array(y_train)))\n",
    "validX = Variable(torch.Tensor(np.array(x_valid)))\n",
    "validy = Variable(torch.Tensor(np.array(y_valid)))\n",
    "testX = Variable(torch.Tensor(np.array(x_test)))\n",
    "testy = Variable(torch.Tensor(np.array(y_test)))"
   ]
  },
  {
   "cell_type": "code",
   "execution_count": 248,
   "id": "919b62bf",
   "metadata": {},
   "outputs": [
    {
     "data": {
      "text/plain": [
       "LSTM(\n",
       "  (lstm): LSTM(153, 2295, batch_first=True)\n",
       "  (fc): Linear(in_features=2295, out_features=2142, bias=True)\n",
       ")"
      ]
     },
     "execution_count": 248,
     "metadata": {},
     "output_type": "execute_result"
    }
   ],
   "source": [
    "input_size = 153\n",
    "hidden_size = 153 * 15\n",
    "num_layers = 1\n",
    "num_classes = 14\n",
    "\n",
    "best_model = LSTM(num_classes, input_size, hidden_size, num_layers, seq_length)\n",
    "best_model.load_state_dict(torch.load('best_model_n_features.pt'))\n",
    "best_model.eval()"
   ]
  },
  {
   "cell_type": "code",
   "execution_count": 249,
   "id": "2c25a7a7",
   "metadata": {},
   "outputs": [],
   "source": [
    "preds = best_model(testX)"
   ]
  },
  {
   "cell_type": "code",
   "execution_count": 250,
   "id": "ca9e81a9",
   "metadata": {},
   "outputs": [
    {
     "data": {
      "text/plain": [
       "(torch.Size([90, 14, 153]), torch.Size([90, 14, 153]))"
      ]
     },
     "execution_count": 250,
     "metadata": {},
     "output_type": "execute_result"
    }
   ],
   "source": [
    "preds.shape, testy.shape"
   ]
  },
  {
   "cell_type": "code",
   "execution_count": 251,
   "id": "78eb7a1f",
   "metadata": {},
   "outputs": [],
   "source": [
    "preds = preds.detach().numpy()\n",
    "testy = testy.detach().numpy()"
   ]
  },
  {
   "cell_type": "markdown",
   "id": "b82920ea",
   "metadata": {},
   "source": [
    "## Tests lstm vs naive"
   ]
  },
  {
   "cell_type": "code",
   "execution_count": 252,
   "id": "8e36b62e",
   "metadata": {},
   "outputs": [],
   "source": [
    "naive_base = testX[:, -1:, :].detach().numpy()"
   ]
  },
  {
   "cell_type": "code",
   "execution_count": 253,
   "id": "c447ad47",
   "metadata": {},
   "outputs": [],
   "source": [
    "naive_pred = np.zeros((preds.shape))\n",
    "\n",
    "for i in range(naive_pred.shape[0]):\n",
    "    for j in range(naive_pred.shape[1]):\n",
    "        for k in range(naive_pred.shape[2]):\n",
    "            naive_pred[i, j, k] = naive_base[i, 0, k]"
   ]
  },
  {
   "cell_type": "code",
   "execution_count": 254,
   "id": "057d8d90",
   "metadata": {},
   "outputs": [],
   "source": [
    "def MSE(x, y):\n",
    "    return np.sqrt(np.mean((x - y) ** 2))"
   ]
  },
  {
   "cell_type": "code",
   "execution_count": 255,
   "id": "2257d003",
   "metadata": {},
   "outputs": [],
   "source": [
    "mse_days_naive = []\n",
    "mse_days_lstm = []\n",
    "\n",
    "for i in range(testy.shape[1]):\n",
    "    mse_days_naive.append(MSE(testy[:, i, :], naive_pred[:, i, :]))\n",
    "    mse_days_lstm.append(MSE(testy[:, i, :], preds[:, i, :]))"
   ]
  },
  {
   "cell_type": "code",
   "execution_count": 256,
   "id": "56fe9f67",
   "metadata": {},
   "outputs": [
    {
     "name": "stdout",
     "output_type": "stream",
     "text": [
      "0.13267065271209813\n",
      "0.14425346\n"
     ]
    },
    {
     "data": {
      "image/png": "[encoded data removed]",
      "text/plain": [
       "<Figure size 432x288 with 1 Axes>"
      ]
     },
     "metadata": {
      "needs_background": "light"
     },
     "output_type": "display_data"
    }
   ],
   "source": [
    "plt.plot(\n",
    "    mse_days_naive,\n",
    "    label='naive'\n",
    ")\n",
    "\n",
    "plt.plot(\n",
    "    mse_days_lstm,\n",
    "    label='lstm'\n",
    ")\n",
    "\n",
    "print(MSE(testy, naive_pred))\n",
    "print(MSE(testy, preds))\n",
    "\n",
    "plt.xlabel('day_to_predict')\n",
    "plt.ylabel('MSE')\n",
    "plt.legend()\n",
    "plt.show()"
   ]
  },
  {
   "cell_type": "code",
   "execution_count": 121,
   "id": "70e751c7",
   "metadata": {},
   "outputs": [
    {
     "data": {
      "image/png": "[encoded data removed]",
      "text/plain": [
       "<Figure size 432x288 with 1 Axes>"
      ]
     },
     "metadata": {
      "needs_background": "light"
     },
     "output_type": "display_data"
    }
   ],
   "source": [
    "plt.plot(\n",
    "    preds[50, :, 0],\n",
    "    label='pred'\n",
    ")\n",
    "\n",
    "plt.plot(\n",
    "    testy[50, :, 0],\n",
    "    label='true'\n",
    ")\n",
    "\n",
    "plt.plot(\n",
    "    naive_pred[50, :, 0],\n",
    "    label='naive'\n",
    ")\n",
    "\n",
    "plt.legend()\n",
    "plt.show()"
   ]
  },
  {
   "cell_type": "code",
   "execution_count": 37,
   "id": "e7a137fd",
   "metadata": {},
   "outputs": [
    {
     "data": {
      "text/plain": [
       "array([[[0.00042485, 0.00676041, 0.00131575, ..., 0.00165644,\n",
       "         0.00100436, 0.00132036],\n",
       "        [0.00046795, 0.01095187, 0.00106905, ..., 0.00118924,\n",
       "         0.00090393, 0.00117365],\n",
       "        [0.00049874, 0.00973499, 0.00205586, ..., 0.00227229,\n",
       "         0.0014635 , 0.00146706],\n",
       "        ...,\n",
       "        [0.0005049 , 0.01230395, 0.00232998, ..., 0.00246342,\n",
       "         0.00265438, 0.00244511],\n",
       "        [0.00057879, 0.00892374, 0.00148022, ..., 0.00189004,\n",
       "         0.00167872, 0.0022984 ],\n",
       "        [0.00048643, 0.00797729, 0.00230257, ..., 0.00237847,\n",
       "         0.00156393, 0.00102695]],\n",
       "\n",
       "       [[0.00046795, 0.01095187, 0.00106905, ..., 0.00118924,\n",
       "         0.00090393, 0.00117365],\n",
       "        [0.00049874, 0.00973499, 0.00205586, ..., 0.00227229,\n",
       "         0.0014635 , 0.00146706],\n",
       "        [0.00060341, 0.0114927 , 0.00257668, ..., 0.00169891,\n",
       "         0.00246786, 0.00298303],\n",
       "        ...,\n",
       "        [0.00057879, 0.00892374, 0.00148022, ..., 0.00189004,\n",
       "         0.00167872, 0.0022984 ],\n",
       "        [0.00048643, 0.00797729, 0.00230257, ..., 0.00237847,\n",
       "         0.00156393, 0.00102695],\n",
       "        [0.00051721, 0.00459708, 0.00126093, ..., 0.00148655,\n",
       "         0.00208046, 0.00127146]],\n",
       "\n",
       "       [[0.00049874, 0.00973499, 0.00205586, ..., 0.00227229,\n",
       "         0.0014635 , 0.00146706],\n",
       "        [0.00060341, 0.0114927 , 0.00257668, ..., 0.00169891,\n",
       "         0.00246786, 0.00298303],\n",
       "        [0.00052337, 0.00648999, 0.00268633, ..., 0.0016352 ,\n",
       "         0.0021522 , 0.00293413],\n",
       "        ...,\n",
       "        [0.00048643, 0.00797729, 0.00230257, ..., 0.00237847,\n",
       "         0.00156393, 0.00102695],\n",
       "        [0.00051721, 0.00459708, 0.00126093, ..., 0.00148655,\n",
       "         0.00208046, 0.00127146],\n",
       "        [0.00043101, 0.00716604, 0.00123352, ..., 0.00131666,\n",
       "         0.00140611, 0.00122255]],\n",
       "\n",
       "       ...,\n",
       "\n",
       "       [[0.00024629, 0.01392645, 0.0014254 , ..., 0.00114676,\n",
       "         0.00094697, 0.00117365],\n",
       "        [0.00023398, 0.0114927 , 0.00194622, ..., 0.00237847,\n",
       "         0.00104741, 0.0022495 ],\n",
       "        [0.00024629, 0.00919416, 0.00202845, ..., 0.00161397,\n",
       "         0.00078914, 0.00176048],\n",
       "        ...,\n",
       "        [0.00020319, 0.00757166, 0.00148022, ..., 0.00195375,\n",
       "         0.00099001, 0.00097804],\n",
       "        [0.00017856, 0.00648999, 0.00153505, ..., 0.0016352 ,\n",
       "         0.00073175, 0.00141816],\n",
       "        [0.00020319, 0.0082477 , 0.00115128, ..., 0.00169891,\n",
       "         0.00061697, 0.00122255]],\n",
       "\n",
       "       [[0.00023398, 0.0114927 , 0.00194622, ..., 0.00237847,\n",
       "         0.00104741, 0.0022495 ],\n",
       "        [0.00024629, 0.00919416, 0.00202845, ..., 0.00161397,\n",
       "         0.00078914, 0.00176048],\n",
       "        [0.00015393, 0.00703083, 0.00145281, ..., 0.00131666,\n",
       "         0.00084653, 0.00166267],\n",
       "        ...,\n",
       "        [0.00017856, 0.00648999, 0.00153505, ..., 0.0016352 ,\n",
       "         0.00073175, 0.00141816],\n",
       "        [0.00020319, 0.0082477 , 0.00115128, ..., 0.00169891,\n",
       "         0.00061697, 0.00122255],\n",
       "        [0.00025861, 0.0082477 , 0.00109646, ..., 0.00242095,\n",
       "         0.00119089, 0.00151597]],\n",
       "\n",
       "       [[0.00024629, 0.00919416, 0.00202845, ..., 0.00161397,\n",
       "         0.00078914, 0.00176048],\n",
       "        [0.00015393, 0.00703083, 0.00145281, ..., 0.00131666,\n",
       "         0.00084653, 0.00166267],\n",
       "        [0.00032634, 0.00567875, 0.00137058, ..., 0.00112553,\n",
       "         0.0007174 , 0.00102695],\n",
       "        ...,\n",
       "        [0.00020319, 0.0082477 , 0.00115128, ..., 0.00169891,\n",
       "         0.00061697, 0.00122255],\n",
       "        [0.00025861, 0.0082477 , 0.00109646, ..., 0.00242095,\n",
       "         0.00119089, 0.00151597],\n",
       "        [0.00027092, 0.00973499, 0.00156246, ..., 0.00235724,\n",
       "         0.00126263, 0.00210279]]], dtype=float32)"
      ]
     },
     "execution_count": 37,
     "metadata": {},
     "output_type": "execute_result"
    }
   ],
   "source": [
    "testy"
   ]
  },
  {
   "cell_type": "code",
   "execution_count": null,
   "id": "1b8ad38d",
   "metadata": {},
   "outputs": [],
   "source": []
  }
 ],
 "metadata": {
  "kernelspec": {
   "display_name": "Python 3 (ipykernel)",
   "language": "python",
   "name": "python3"
  },
  "language_info": {
   "codemirror_mode": {
    "name": "ipython",
    "version": 3
   },
   "file_extension": ".py",
   "mimetype": "text/x-python",
   "name": "python",
   "nbconvert_exporter": "python",
   "pygments_lexer": "ipython3",
   "version": "3.9.7"
  }
 },
 "nbformat": 4,
 "nbformat_minor": 5
}
