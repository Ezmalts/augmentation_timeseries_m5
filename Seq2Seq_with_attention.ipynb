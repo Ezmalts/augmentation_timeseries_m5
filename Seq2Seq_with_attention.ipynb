{
 "cells": [
  {
   "cell_type": "code",
   "execution_count": 479,
   "id": "029f1348",
   "metadata": {},
   "outputs": [],
   "source": [
    "import numpy as np\n",
    "import matplotlib.pyplot as plt\n",
    "import pandas as pd\n",
    "import torch\n",
    "import torch.nn as nn\n",
    "from torch.autograd import Variable\n",
    "from sklearn.preprocessing import MinMaxScaler\n",
    "from torch.utils.data import DataLoader, Dataset\n",
    "from IPython.display import clear_output\n",
    "import torch.nn.functional as F"
   ]
  },
  {
   "cell_type": "code",
   "execution_count": 484,
   "id": "c6ecfe55",
   "metadata": {},
   "outputs": [],
   "source": [
    "training_set = pd.read_csv('train_ts_top5.csv', index_col='item_id')"
   ]
  },
  {
   "cell_type": "code",
   "execution_count": 485,
   "id": "53b44a79",
   "metadata": {},
   "outputs": [
    {
     "data": {
      "text/html": [
       "<div>\n",
       "<style scoped>\n",
       "    .dataframe tbody tr th:only-of-type {\n",
       "        vertical-align: middle;\n",
       "    }\n",
       "\n",
       "    .dataframe tbody tr th {\n",
       "        vertical-align: top;\n",
       "    }\n",
       "\n",
       "    .dataframe thead th {\n",
       "        text-align: right;\n",
       "    }\n",
       "</style>\n",
       "<table border=\"1\" class=\"dataframe\">\n",
       "  <thead>\n",
       "    <tr style=\"text-align: right;\">\n",
       "      <th></th>\n",
       "      <th>d_1</th>\n",
       "      <th>d_2</th>\n",
       "      <th>d_3</th>\n",
       "      <th>d_4</th>\n",
       "      <th>d_5</th>\n",
       "      <th>d_6</th>\n",
       "      <th>d_7</th>\n",
       "      <th>d_8</th>\n",
       "      <th>d_9</th>\n",
       "      <th>d_10</th>\n",
       "      <th>...</th>\n",
       "      <th>d_1932</th>\n",
       "      <th>d_1933</th>\n",
       "      <th>d_1934</th>\n",
       "      <th>d_1935</th>\n",
       "      <th>d_1936</th>\n",
       "      <th>d_1937</th>\n",
       "      <th>d_1938</th>\n",
       "      <th>d_1939</th>\n",
       "      <th>d_1940</th>\n",
       "      <th>d_1941</th>\n",
       "    </tr>\n",
       "    <tr>\n",
       "      <th>item_id</th>\n",
       "      <th></th>\n",
       "      <th></th>\n",
       "      <th></th>\n",
       "      <th></th>\n",
       "      <th></th>\n",
       "      <th></th>\n",
       "      <th></th>\n",
       "      <th></th>\n",
       "      <th></th>\n",
       "      <th></th>\n",
       "      <th></th>\n",
       "      <th></th>\n",
       "      <th></th>\n",
       "      <th></th>\n",
       "      <th></th>\n",
       "      <th></th>\n",
       "      <th></th>\n",
       "      <th></th>\n",
       "      <th></th>\n",
       "      <th></th>\n",
       "      <th></th>\n",
       "    </tr>\n",
       "  </thead>\n",
       "  <tbody>\n",
       "    <tr>\n",
       "      <th>FOODS_1_004</th>\n",
       "      <td>0</td>\n",
       "      <td>0</td>\n",
       "      <td>0</td>\n",
       "      <td>0</td>\n",
       "      <td>0</td>\n",
       "      <td>0</td>\n",
       "      <td>0</td>\n",
       "      <td>0</td>\n",
       "      <td>0</td>\n",
       "      <td>0</td>\n",
       "      <td>...</td>\n",
       "      <td>115</td>\n",
       "      <td>104</td>\n",
       "      <td>107</td>\n",
       "      <td>81</td>\n",
       "      <td>73</td>\n",
       "      <td>62</td>\n",
       "      <td>71</td>\n",
       "      <td>75</td>\n",
       "      <td>83</td>\n",
       "      <td>93</td>\n",
       "    </tr>\n",
       "    <tr>\n",
       "      <th>FOODS_1_012</th>\n",
       "      <td>0</td>\n",
       "      <td>0</td>\n",
       "      <td>0</td>\n",
       "      <td>0</td>\n",
       "      <td>0</td>\n",
       "      <td>0</td>\n",
       "      <td>0</td>\n",
       "      <td>0</td>\n",
       "      <td>0</td>\n",
       "      <td>0</td>\n",
       "      <td>...</td>\n",
       "      <td>65</td>\n",
       "      <td>55</td>\n",
       "      <td>43</td>\n",
       "      <td>46</td>\n",
       "      <td>43</td>\n",
       "      <td>36</td>\n",
       "      <td>53</td>\n",
       "      <td>57</td>\n",
       "      <td>61</td>\n",
       "      <td>56</td>\n",
       "    </tr>\n",
       "    <tr>\n",
       "      <th>FOODS_1_018</th>\n",
       "      <td>47</td>\n",
       "      <td>26</td>\n",
       "      <td>30</td>\n",
       "      <td>24</td>\n",
       "      <td>13</td>\n",
       "      <td>18</td>\n",
       "      <td>30</td>\n",
       "      <td>32</td>\n",
       "      <td>31</td>\n",
       "      <td>16</td>\n",
       "      <td>...</td>\n",
       "      <td>104</td>\n",
       "      <td>134</td>\n",
       "      <td>146</td>\n",
       "      <td>98</td>\n",
       "      <td>92</td>\n",
       "      <td>71</td>\n",
       "      <td>99</td>\n",
       "      <td>100</td>\n",
       "      <td>128</td>\n",
       "      <td>105</td>\n",
       "    </tr>\n",
       "    <tr>\n",
       "      <th>FOODS_1_032</th>\n",
       "      <td>62</td>\n",
       "      <td>63</td>\n",
       "      <td>34</td>\n",
       "      <td>54</td>\n",
       "      <td>48</td>\n",
       "      <td>45</td>\n",
       "      <td>49</td>\n",
       "      <td>42</td>\n",
       "      <td>31</td>\n",
       "      <td>25</td>\n",
       "      <td>...</td>\n",
       "      <td>100</td>\n",
       "      <td>98</td>\n",
       "      <td>71</td>\n",
       "      <td>71</td>\n",
       "      <td>62</td>\n",
       "      <td>52</td>\n",
       "      <td>75</td>\n",
       "      <td>72</td>\n",
       "      <td>89</td>\n",
       "      <td>83</td>\n",
       "    </tr>\n",
       "    <tr>\n",
       "      <th>FOODS_1_043</th>\n",
       "      <td>0</td>\n",
       "      <td>0</td>\n",
       "      <td>0</td>\n",
       "      <td>0</td>\n",
       "      <td>0</td>\n",
       "      <td>0</td>\n",
       "      <td>0</td>\n",
       "      <td>0</td>\n",
       "      <td>0</td>\n",
       "      <td>0</td>\n",
       "      <td>...</td>\n",
       "      <td>186</td>\n",
       "      <td>109</td>\n",
       "      <td>139</td>\n",
       "      <td>104</td>\n",
       "      <td>68</td>\n",
       "      <td>54</td>\n",
       "      <td>101</td>\n",
       "      <td>115</td>\n",
       "      <td>104</td>\n",
       "      <td>128</td>\n",
       "    </tr>\n",
       "    <tr>\n",
       "      <th>...</th>\n",
       "      <td>...</td>\n",
       "      <td>...</td>\n",
       "      <td>...</td>\n",
       "      <td>...</td>\n",
       "      <td>...</td>\n",
       "      <td>...</td>\n",
       "      <td>...</td>\n",
       "      <td>...</td>\n",
       "      <td>...</td>\n",
       "      <td>...</td>\n",
       "      <td>...</td>\n",
       "      <td>...</td>\n",
       "      <td>...</td>\n",
       "      <td>...</td>\n",
       "      <td>...</td>\n",
       "      <td>...</td>\n",
       "      <td>...</td>\n",
       "      <td>...</td>\n",
       "      <td>...</td>\n",
       "      <td>...</td>\n",
       "      <td>...</td>\n",
       "    </tr>\n",
       "    <tr>\n",
       "      <th>HOUSEHOLD_1_447</th>\n",
       "      <td>0</td>\n",
       "      <td>0</td>\n",
       "      <td>0</td>\n",
       "      <td>0</td>\n",
       "      <td>0</td>\n",
       "      <td>0</td>\n",
       "      <td>0</td>\n",
       "      <td>0</td>\n",
       "      <td>0</td>\n",
       "      <td>0</td>\n",
       "      <td>...</td>\n",
       "      <td>81</td>\n",
       "      <td>85</td>\n",
       "      <td>62</td>\n",
       "      <td>76</td>\n",
       "      <td>76</td>\n",
       "      <td>56</td>\n",
       "      <td>47</td>\n",
       "      <td>77</td>\n",
       "      <td>62</td>\n",
       "      <td>34</td>\n",
       "    </tr>\n",
       "    <tr>\n",
       "      <th>HOUSEHOLD_1_459</th>\n",
       "      <td>0</td>\n",
       "      <td>0</td>\n",
       "      <td>0</td>\n",
       "      <td>0</td>\n",
       "      <td>0</td>\n",
       "      <td>0</td>\n",
       "      <td>0</td>\n",
       "      <td>0</td>\n",
       "      <td>0</td>\n",
       "      <td>0</td>\n",
       "      <td>...</td>\n",
       "      <td>92</td>\n",
       "      <td>149</td>\n",
       "      <td>85</td>\n",
       "      <td>84</td>\n",
       "      <td>90</td>\n",
       "      <td>89</td>\n",
       "      <td>88</td>\n",
       "      <td>119</td>\n",
       "      <td>122</td>\n",
       "      <td>100</td>\n",
       "    </tr>\n",
       "    <tr>\n",
       "      <th>HOUSEHOLD_1_465</th>\n",
       "      <td>0</td>\n",
       "      <td>0</td>\n",
       "      <td>0</td>\n",
       "      <td>0</td>\n",
       "      <td>0</td>\n",
       "      <td>0</td>\n",
       "      <td>0</td>\n",
       "      <td>0</td>\n",
       "      <td>0</td>\n",
       "      <td>0</td>\n",
       "      <td>...</td>\n",
       "      <td>110</td>\n",
       "      <td>139</td>\n",
       "      <td>157</td>\n",
       "      <td>106</td>\n",
       "      <td>61</td>\n",
       "      <td>62</td>\n",
       "      <td>78</td>\n",
       "      <td>108</td>\n",
       "      <td>99</td>\n",
       "      <td>91</td>\n",
       "    </tr>\n",
       "    <tr>\n",
       "      <th>HOUSEHOLD_1_521</th>\n",
       "      <td>53</td>\n",
       "      <td>48</td>\n",
       "      <td>37</td>\n",
       "      <td>36</td>\n",
       "      <td>43</td>\n",
       "      <td>48</td>\n",
       "      <td>42</td>\n",
       "      <td>59</td>\n",
       "      <td>47</td>\n",
       "      <td>42</td>\n",
       "      <td>...</td>\n",
       "      <td>63</td>\n",
       "      <td>83</td>\n",
       "      <td>70</td>\n",
       "      <td>44</td>\n",
       "      <td>52</td>\n",
       "      <td>46</td>\n",
       "      <td>34</td>\n",
       "      <td>74</td>\n",
       "      <td>67</td>\n",
       "      <td>47</td>\n",
       "    </tr>\n",
       "    <tr>\n",
       "      <th>HOUSEHOLD_1_535</th>\n",
       "      <td>0</td>\n",
       "      <td>0</td>\n",
       "      <td>0</td>\n",
       "      <td>0</td>\n",
       "      <td>0</td>\n",
       "      <td>0</td>\n",
       "      <td>0</td>\n",
       "      <td>0</td>\n",
       "      <td>0</td>\n",
       "      <td>0</td>\n",
       "      <td>...</td>\n",
       "      <td>41</td>\n",
       "      <td>46</td>\n",
       "      <td>55</td>\n",
       "      <td>45</td>\n",
       "      <td>33</td>\n",
       "      <td>41</td>\n",
       "      <td>36</td>\n",
       "      <td>44</td>\n",
       "      <td>56</td>\n",
       "      <td>66</td>\n",
       "    </tr>\n",
       "  </tbody>\n",
       "</table>\n",
       "<p>153 rows × 1941 columns</p>\n",
       "</div>"
      ],
      "text/plain": [
       "                 d_1  d_2  d_3  d_4  d_5  d_6  d_7  d_8  d_9  d_10  ...  \\\n",
       "item_id                                                             ...   \n",
       "FOODS_1_004        0    0    0    0    0    0    0    0    0     0  ...   \n",
       "FOODS_1_012        0    0    0    0    0    0    0    0    0     0  ...   \n",
       "FOODS_1_018       47   26   30   24   13   18   30   32   31    16  ...   \n",
       "FOODS_1_032       62   63   34   54   48   45   49   42   31    25  ...   \n",
       "FOODS_1_043        0    0    0    0    0    0    0    0    0     0  ...   \n",
       "...              ...  ...  ...  ...  ...  ...  ...  ...  ...   ...  ...   \n",
       "HOUSEHOLD_1_447    0    0    0    0    0    0    0    0    0     0  ...   \n",
       "HOUSEHOLD_1_459    0    0    0    0    0    0    0    0    0     0  ...   \n",
       "HOUSEHOLD_1_465    0    0    0    0    0    0    0    0    0     0  ...   \n",
       "HOUSEHOLD_1_521   53   48   37   36   43   48   42   59   47    42  ...   \n",
       "HOUSEHOLD_1_535    0    0    0    0    0    0    0    0    0     0  ...   \n",
       "\n",
       "                 d_1932  d_1933  d_1934  d_1935  d_1936  d_1937  d_1938  \\\n",
       "item_id                                                                   \n",
       "FOODS_1_004         115     104     107      81      73      62      71   \n",
       "FOODS_1_012          65      55      43      46      43      36      53   \n",
       "FOODS_1_018         104     134     146      98      92      71      99   \n",
       "FOODS_1_032         100      98      71      71      62      52      75   \n",
       "FOODS_1_043         186     109     139     104      68      54     101   \n",
       "...                 ...     ...     ...     ...     ...     ...     ...   \n",
       "HOUSEHOLD_1_447      81      85      62      76      76      56      47   \n",
       "HOUSEHOLD_1_459      92     149      85      84      90      89      88   \n",
       "HOUSEHOLD_1_465     110     139     157     106      61      62      78   \n",
       "HOUSEHOLD_1_521      63      83      70      44      52      46      34   \n",
       "HOUSEHOLD_1_535      41      46      55      45      33      41      36   \n",
       "\n",
       "                 d_1939  d_1940  d_1941  \n",
       "item_id                                  \n",
       "FOODS_1_004          75      83      93  \n",
       "FOODS_1_012          57      61      56  \n",
       "FOODS_1_018         100     128     105  \n",
       "FOODS_1_032          72      89      83  \n",
       "FOODS_1_043         115     104     128  \n",
       "...                 ...     ...     ...  \n",
       "HOUSEHOLD_1_447      77      62      34  \n",
       "HOUSEHOLD_1_459     119     122     100  \n",
       "HOUSEHOLD_1_465     108      99      91  \n",
       "HOUSEHOLD_1_521      74      67      47  \n",
       "HOUSEHOLD_1_535      44      56      66  \n",
       "\n",
       "[153 rows x 1941 columns]"
      ]
     },
     "execution_count": 485,
     "metadata": {},
     "output_type": "execute_result"
    }
   ],
   "source": [
    "training_set"
   ]
  },
  {
   "cell_type": "code",
   "execution_count": 486,
   "id": "d5b95474",
   "metadata": {},
   "outputs": [],
   "source": [
    "training_set = pd.DataFrame(training_set.iloc[0, :])\n",
    "\n",
    "#training_set['lag_1'] = training_set.shift()\n",
    "\n",
    "training_set = training_set.diff(7).dropna()"
   ]
  },
  {
   "cell_type": "code",
   "execution_count": 487,
   "id": "350588d8",
   "metadata": {},
   "outputs": [
    {
     "data": {
      "text/plain": [
       "array([[  0.],\n",
       "       [  0.],\n",
       "       [  0.],\n",
       "       ...,\n",
       "       [-40.],\n",
       "       [-21.],\n",
       "       [-14.]])"
      ]
     },
     "execution_count": 487,
     "metadata": {},
     "output_type": "execute_result"
    }
   ],
   "source": [
    "training_set.values"
   ]
  },
  {
   "cell_type": "code",
   "execution_count": 460,
   "id": "d5374466",
   "metadata": {},
   "outputs": [],
   "source": [
    "#training_set = training_set.T.values.reshape(len(training_set), 2)"
   ]
  },
  {
   "cell_type": "code",
   "execution_count": 461,
   "id": "6b4c5870",
   "metadata": {},
   "outputs": [],
   "source": [
    "#training_set"
   ]
  },
  {
   "cell_type": "code",
   "execution_count": 489,
   "id": "e8f55ea8",
   "metadata": {},
   "outputs": [],
   "source": [
    "train = training_set[:int(0.8 * len(training_set))]\n",
    "valid = training_set[int(0.8 * len(training_set)):int(0.9 * len(training_set))]\n",
    "test = training_set[int(0.9 * len(training_set)):]"
   ]
  },
  {
   "cell_type": "code",
   "execution_count": 493,
   "id": "7608871e",
   "metadata": {},
   "outputs": [],
   "source": [
    "indexer = np.arange(len(training_set))"
   ]
  },
  {
   "cell_type": "code",
   "execution_count": 497,
   "id": "a8c673ac",
   "metadata": {},
   "outputs": [
    {
     "data": {
      "image/png": "[encoded data removed]",
      "text/plain": [
       "<Figure size 1080x576 with 1 Axes>"
      ]
     },
     "metadata": {
      "needs_background": "light"
     },
     "output_type": "display_data"
    }
   ],
   "source": [
    "plt.figure(figsize=(15, 8))\n",
    "\n",
    "plt.plot(\n",
    "    indexer[:int(0.8 * len(training_set))],\n",
    "    train,\n",
    "    label='train'\n",
    ")\n",
    "\n",
    "plt.plot(\n",
    "    indexer[int(0.8 * len(training_set)):int(0.9 * len(training_set))],\n",
    "    valid,\n",
    "    label='valid'\n",
    ")\n",
    "\n",
    "\n",
    "plt.plot(\n",
    "    indexer[int(0.9 * len(training_set)):],\n",
    "    test,\n",
    "    label='valid'\n",
    ")\n",
    "\n",
    "plt.legend()\n",
    "plt.show()"
   ]
  },
  {
   "cell_type": "code",
   "execution_count": 503,
   "id": "e592313e",
   "metadata": {},
   "outputs": [
    {
     "data": {
      "image/png": "[encoded data removed]",
      "text/plain": [
       "<Figure size 1008x504 with 1 Axes>"
      ]
     },
     "metadata": {
      "needs_background": "light"
     },
     "output_type": "display_data"
    }
   ],
   "source": [
    "plt.figure(figsize=(14, 7))\n",
    "\n",
    "plt.hist(\n",
    "    train,\n",
    "    density=True,\n",
    "    label='train',\n",
    "    alpha=0.5\n",
    ")\n",
    "\n",
    "plt.hist(\n",
    "    valid,\n",
    "    density=True,\n",
    "    label='valid',\n",
    "    alpha=0.5\n",
    ")\n",
    "\n",
    "plt.hist(\n",
    "    test,\n",
    "    density=True,\n",
    "    label='test',\n",
    "    alpha=0.5\n",
    ")\n",
    "\n",
    "plt.legend()\n",
    "plt.show()"
   ]
  },
  {
   "cell_type": "code",
   "execution_count": 504,
   "id": "3e59046b",
   "metadata": {},
   "outputs": [],
   "source": [
    "def sliding_windows(data, seq_length, pred_length):\n",
    "    x = []\n",
    "    y = []\n",
    "\n",
    "    for i in range(len(data)-seq_length-1-pred_length):\n",
    "        _x = data[i:(i+seq_length)]\n",
    "        _y = data[i+seq_length:i+pred_length+seq_length] \n",
    "        x.append(_x)\n",
    "        y.append(_y)\n",
    "\n",
    "    return np.array(x),np.array(y)\n",
    "\n",
    "sc = MinMaxScaler((-1,1))\n",
    "\n",
    "train = sc.fit_transform(train)\n",
    "valid = sc.transform(valid)\n",
    "\n",
    "seq_length = 90\n",
    "pred_length = 28\n",
    "x_train, y_train = sliding_windows(train, seq_length, pred_length)\n",
    "x_valid, y_valid = sliding_windows(valid, seq_length, pred_length)\n",
    "\n",
    "\n",
    "TrainX = Variable(torch.Tensor(np.array(x_train)))\n",
    "Trainy = Variable(torch.Tensor(np.array(y_train)))\n",
    "ValidX = Variable(torch.Tensor(np.array(x_valid)))\n",
    "Validy = Variable(torch.Tensor(np.array(y_valid)))"
   ]
  },
  {
   "cell_type": "code",
   "execution_count": 505,
   "id": "d40fb7f3",
   "metadata": {},
   "outputs": [
    {
     "data": {
      "text/plain": [
       "(torch.Size([1428, 90, 1]), torch.Size([1428, 28, 1]))"
      ]
     },
     "execution_count": 505,
     "metadata": {},
     "output_type": "execute_result"
    }
   ],
   "source": [
    "TrainX.shape, Trainy.shape"
   ]
  },
  {
   "cell_type": "markdown",
   "id": "a5b1df49",
   "metadata": {},
   "source": [
    "## Encoder "
   ]
  },
  {
   "cell_type": "code",
   "execution_count": 506,
   "id": "ef6f973c",
   "metadata": {},
   "outputs": [],
   "source": [
    "class Encoder(nn.Module):\n",
    "    def __init__(self, seq_len, n_features, embedding_dim=64):\n",
    "        super(Encoder, self).__init__()\n",
    "\n",
    "        self.seq_len, self.n_features = seq_len, n_features\n",
    "        self.embedding_dim, self.hidden_dim = embedding_dim,  embedding_dim\n",
    "        self.num_layers = 3\n",
    "        self.rnn1 = nn.LSTM(\n",
    "          input_size=n_features,\n",
    "          hidden_size=self.hidden_dim,\n",
    "          num_layers=3,\n",
    "          batch_first=True,\n",
    "          dropout = 0.35\n",
    "        )\n",
    "   \n",
    "    def forward(self, x):\n",
    "       \n",
    "        x = x.reshape((1, self.seq_len, self.n_features))\n",
    "        \n",
    "        h_1 = Variable(torch.zeros(\n",
    "            self.num_layers, x.size(0), self.hidden_dim))\n",
    "         \n",
    "        \n",
    "        c_1 = Variable(torch.zeros(\n",
    "            self.num_layers, x.size(0), self.hidden_dim))\n",
    "              \n",
    "        x, (hidden, cell) = self.rnn1(x,(h_1, c_1))\n",
    "        \n",
    "        \n",
    "        #return hidden_n.reshape((self.n_features, self.embedding_dim))\n",
    "        return x, hidden , cell "
   ]
  },
  {
   "cell_type": "markdown",
   "id": "7aca1862",
   "metadata": {},
   "source": [
    "## Decoder "
   ]
  },
  {
   "cell_type": "code",
   "execution_count": 507,
   "id": "02602589",
   "metadata": {},
   "outputs": [],
   "source": [
    "class Attention(nn.Module):\n",
    "    def __init__(self, enc_hid_dim, dec_hid_dim):\n",
    "        super().__init__()\n",
    "        \n",
    "        self.attn = nn.Linear((enc_hid_dim ) + dec_hid_dim, dec_hid_dim)\n",
    "        self.v = nn.Linear(dec_hid_dim, 1, bias = False)\n",
    "        \n",
    "    def forward(self, hidden, encoder_outputs):\n",
    "        \n",
    "        #hidden = [batch size, dec hid dim]\n",
    "        #encoder_outputs = [src len, batch size, enc hid dim * 2]\n",
    "        \n",
    "        batch_size = encoder_outputs.shape[0]\n",
    "        src_len = encoder_outputs.shape[1]\n",
    "        \n",
    "       \n",
    "        hidden = hidden[2:3,:,:]\n",
    "        \n",
    "        #print(\"hidden size is\",hidden.size())\n",
    "        \n",
    "        \n",
    "        \n",
    "        #repeat decoder hidden state src_len times\n",
    "        #hidden = hidden.unsqueeze(1).repeat(1, src_len, 1)\n",
    "        hidden = hidden.repeat(1, src_len, 1)\n",
    "     \n",
    "        \n",
    "        #encoder_outputs = encoder_outputs.permute(1, 0, 2)\n",
    "        \n",
    "        #print(\"encode_outputs size after permute is:\",encoder_outputs.size())\n",
    "        \n",
    "        \n",
    "        #hidden = [batch size, src len, dec hid dim]\n",
    "        #encoder_outputs = [batch size, src len, enc hid dim * 2]\n",
    "        \n",
    "        energy = torch.tanh(self.attn(torch.cat((hidden, encoder_outputs), dim = 2))) \n",
    "        \n",
    "        #energy = [batch size, src len, dec hid dim]\n",
    "\n",
    "        attention = self.v(energy).squeeze(2)\n",
    "        \n",
    "        #attention= [batch size, src len]\n",
    "        \n",
    "        \n",
    "        return F.softmax(attention, dim=1)"
   ]
  },
  {
   "cell_type": "code",
   "execution_count": 508,
   "id": "1921150b",
   "metadata": {},
   "outputs": [],
   "source": [
    "class Decoder(nn.Module):\n",
    "    def __init__(self, seq_len, input_dim=64, n_features=1):\n",
    "        super(Decoder, self).__init__()\n",
    "\n",
    "        self.seq_len, self.input_dim = seq_len, input_dim\n",
    "        self.hidden_dim, self.n_features =  input_dim, n_features\n",
    "        \n",
    "        self.rnn1 = nn.LSTM(\n",
    "          input_size=1,\n",
    "          hidden_size=input_dim,\n",
    "          num_layers=3,\n",
    "          batch_first=True,\n",
    "          dropout = 0.35\n",
    "        )\n",
    "        \n",
    "        \n",
    "      \n",
    "        self.output_layer = nn.Linear(self.hidden_dim, n_features)\n",
    "\n",
    "    def forward(self, x,input_hidden,input_cell):\n",
    "        x = x.reshape((1,1,1))\n",
    "     \n",
    "\n",
    "        x, (hidden_n, cell_n) = self.rnn1(x,(input_hidden,input_cell))\n",
    "    \n",
    "        x = self.output_layer(x)\n",
    "        return x, hidden_n, cell_n"
   ]
  },
  {
   "cell_type": "code",
   "execution_count": 509,
   "id": "1e0d7712",
   "metadata": {},
   "outputs": [],
   "source": [
    "class AttentionDecoder(nn.Module):\n",
    "    def __init__(self, seq_len,attention, input_dim=64, n_features=1,encoder_hidden_state = 512):\n",
    "        super(AttentionDecoder, self).__init__()\n",
    "\n",
    "        self.seq_len, self.input_dim = seq_len, input_dim\n",
    "        self.hidden_dim, self.n_features =  input_dim, n_features\n",
    "        self.attention = attention \n",
    "        \n",
    "        self.rnn1 = nn.LSTM(\n",
    "          #input_size=1,\n",
    "          input_size= encoder_hidden_state + 1,  # Encoder Hidden State + One Previous input\n",
    "          hidden_size=input_dim,\n",
    "          num_layers=3,\n",
    "          batch_first=True,\n",
    "          dropout = 0.35\n",
    "        )\n",
    "        \n",
    "        \n",
    "      \n",
    "        self.output_layer = nn.Linear(self.hidden_dim * 2 , n_features)\n",
    "\n",
    "    def forward(self, x,input_hidden,input_cell,encoder_outputs):\n",
    "       \n",
    "        a = self.attention(input_hidden, encoder_outputs)\n",
    "        \n",
    "        a = a.unsqueeze(1)\n",
    "        \n",
    "        #a = [batch size, 1, src len]\n",
    "        \n",
    "        #encoder_outputs = encoder_outputs.permute(1, 0, 2)\n",
    "        \n",
    "        #encoder_outputs = [batch size, src len, enc hid dim * 2]\n",
    "        \n",
    "      \n",
    "        \n",
    "        weighted = torch.bmm(a, encoder_outputs)\n",
    "        \n",
    "        \n",
    "     \n",
    "        x = x.reshape((1,1,1))\n",
    "       \n",
    "        \n",
    "        \n",
    "        rnn_input = torch.cat((x, weighted), dim = 2)\n",
    "       \n",
    "\n",
    "        #x, (hidden_n, cell_n) = self.rnn1(x,(input_hidden,input_cell))\n",
    "        x, (hidden_n, cell_n) = self.rnn1(rnn_input,(input_hidden,input_cell))\n",
    "        \n",
    "        output = x.squeeze(0)\n",
    "        weighted = weighted.squeeze(0)\n",
    "        \n",
    "        x = self.output_layer(torch.cat((output, weighted), dim = 1))\n",
    "        return x, hidden_n, cell_n"
   ]
  },
  {
   "cell_type": "markdown",
   "id": "e2f022d2",
   "metadata": {},
   "source": [
    "## Seq2seq"
   ]
  },
  {
   "cell_type": "code",
   "execution_count": 510,
   "id": "113a1894",
   "metadata": {},
   "outputs": [],
   "source": [
    "class Seq2Seq(nn.Module):\n",
    "\n",
    "    def __init__(self, seq_len, n_features, embedding_dim=64,output_length =28):\n",
    "        super(Seq2Seq, self).__init__()\n",
    "\n",
    "        \n",
    "        self.encoder = Encoder(seq_len, n_features, embedding_dim)\n",
    "        self.attention = Attention(512,512)\n",
    "        self.output_length = output_length\n",
    "        self.decoder = AttentionDecoder(seq_len, self.attention, embedding_dim, n_features)\n",
    "        \n",
    "\n",
    "    def forward(self,x, prev_y):\n",
    "        \n",
    "        encoder_output,hidden,cell = self.encoder(x)\n",
    "         \n",
    "        #Prepare place holder for decoder output\n",
    "        targets_ta = []\n",
    "        #prev_output become the next input to the LSTM cell\n",
    "        prev_output = prev_y\n",
    "        \n",
    "        #itearate over LSTM - according to the required output days\n",
    "        for out_days in range(self.output_length) :\n",
    "        \n",
    "            prev_x,prev_hidden,prev_cell = self.decoder(prev_output,hidden,cell,encoder_output)\n",
    "            hidden,cell = prev_hidden,prev_cell\n",
    "            prev_output = prev_x\n",
    "            \n",
    "            targets_ta.append(prev_x.reshape(1))\n",
    "           \n",
    "            \n",
    "        \n",
    "        \n",
    "        targets = torch.stack(targets_ta)\n",
    "\n",
    "        return targets"
   ]
  },
  {
   "cell_type": "markdown",
   "id": "d9bdc755",
   "metadata": {},
   "source": [
    "## Train model"
   ]
  },
  {
   "cell_type": "code",
   "execution_count": 511,
   "id": "f71a6f61",
   "metadata": {},
   "outputs": [
    {
     "data": {
      "text/plain": [
       "Seq2Seq(\n",
       "  (encoder): Encoder(\n",
       "    (rnn1): LSTM(1, 512, num_layers=3, batch_first=True, dropout=0.35)\n",
       "  )\n",
       "  (attention): Attention(\n",
       "    (attn): Linear(in_features=1024, out_features=512, bias=True)\n",
       "    (v): Linear(in_features=512, out_features=1, bias=False)\n",
       "  )\n",
       "  (decoder): AttentionDecoder(\n",
       "    (attention): Attention(\n",
       "      (attn): Linear(in_features=1024, out_features=512, bias=True)\n",
       "      (v): Linear(in_features=512, out_features=1, bias=False)\n",
       "    )\n",
       "    (rnn1): LSTM(513, 512, num_layers=3, batch_first=True, dropout=0.35)\n",
       "    (output_layer): Linear(in_features=1024, out_features=1, bias=True)\n",
       "  )\n",
       ")"
      ]
     },
     "execution_count": 511,
     "metadata": {},
     "output_type": "execute_result"
    }
   ],
   "source": [
    "n_features = 1\n",
    "model = Seq2Seq(seq_length, n_features, 512)\n",
    "\n",
    "model"
   ]
  },
  {
   "cell_type": "code",
   "execution_count": 512,
   "id": "81b29417",
   "metadata": {},
   "outputs": [
    {
     "data": {
      "text/plain": [
       "Seq2Seq(\n",
       "  (encoder): Encoder(\n",
       "    (rnn1): LSTM(1, 512, num_layers=3, batch_first=True, dropout=0.35)\n",
       "  )\n",
       "  (attention): Attention(\n",
       "    (attn): Linear(in_features=1024, out_features=512, bias=True)\n",
       "    (v): Linear(in_features=512, out_features=1, bias=False)\n",
       "  )\n",
       "  (decoder): AttentionDecoder(\n",
       "    (attention): Attention(\n",
       "      (attn): Linear(in_features=1024, out_features=512, bias=True)\n",
       "      (v): Linear(in_features=512, out_features=1, bias=False)\n",
       "    )\n",
       "    (rnn1): LSTM(513, 512, num_layers=3, batch_first=True, dropout=0.35)\n",
       "    (output_layer): Linear(in_features=1024, out_features=1, bias=True)\n",
       "  )\n",
       ")"
      ]
     },
     "execution_count": 512,
     "metadata": {},
     "output_type": "execute_result"
    }
   ],
   "source": [
    "def init_weights(m):\n",
    "    for name, param in m.named_parameters():\n",
    "        nn.init.uniform_(param.data, -0.08, 0.08)\n",
    "        \n",
    "model.apply(init_weights)"
   ]
  },
  {
   "cell_type": "code",
   "execution_count": 513,
   "id": "198f50d0",
   "metadata": {},
   "outputs": [],
   "source": [
    "from tqdm import tqdm"
   ]
  },
  {
   "cell_type": "code",
   "execution_count": 515,
   "id": "7f3d2f69",
   "metadata": {},
   "outputs": [
    {
     "name": "stderr",
     "output_type": "stream",
     "text": [
      "  6%|██████▎                                                                                                          | 80/1428 [01:32<25:52,  1.15s/it]\n"
     ]
    },
    {
     "ename": "KeyboardInterrupt",
     "evalue": "",
     "output_type": "error",
     "traceback": [
      "\u001b[0;31m---------------------------------------------------------------------------\u001b[0m",
      "\u001b[0;31mKeyboardInterrupt\u001b[0m                         Traceback (most recent call last)",
      "\u001b[0;32m/var/folders/zw/lhksvp0s5qzg64r3f5t9fkj00000gn/T/ipykernel_4951/411398935.py\u001b[0m in \u001b[0;36m<module>\u001b[0;34m\u001b[0m\n\u001b[1;32m     27\u001b[0m \u001b[0;34m\u001b[0m\u001b[0m\n\u001b[1;32m     28\u001b[0m \u001b[0;34m\u001b[0m\u001b[0m\n\u001b[0;32m---> 29\u001b[0;31m         \u001b[0mloss\u001b[0m\u001b[0;34m.\u001b[0m\u001b[0mbackward\u001b[0m\u001b[0;34m(\u001b[0m\u001b[0;34m)\u001b[0m\u001b[0;34m\u001b[0m\u001b[0;34m\u001b[0m\u001b[0m\n\u001b[0m\u001b[1;32m     30\u001b[0m \u001b[0;34m\u001b[0m\u001b[0m\n\u001b[1;32m     31\u001b[0m         \u001b[0mtorch\u001b[0m\u001b[0;34m.\u001b[0m\u001b[0mnn\u001b[0m\u001b[0;34m.\u001b[0m\u001b[0mutils\u001b[0m\u001b[0;34m.\u001b[0m\u001b[0mclip_grad_norm_\u001b[0m\u001b[0;34m(\u001b[0m\u001b[0mmodel\u001b[0m\u001b[0;34m.\u001b[0m\u001b[0mparameters\u001b[0m\u001b[0;34m(\u001b[0m\u001b[0;34m)\u001b[0m\u001b[0;34m,\u001b[0m \u001b[0;36m1\u001b[0m\u001b[0;34m)\u001b[0m\u001b[0;34m\u001b[0m\u001b[0;34m\u001b[0m\u001b[0m\n",
      "\u001b[0;32m~/opt/anaconda3/lib/python3.9/site-packages/torch/_tensor.py\u001b[0m in \u001b[0;36mbackward\u001b[0;34m(self, gradient, retain_graph, create_graph, inputs)\u001b[0m\n\u001b[1;32m    305\u001b[0m                 \u001b[0mcreate_graph\u001b[0m\u001b[0;34m=\u001b[0m\u001b[0mcreate_graph\u001b[0m\u001b[0;34m,\u001b[0m\u001b[0;34m\u001b[0m\u001b[0;34m\u001b[0m\u001b[0m\n\u001b[1;32m    306\u001b[0m                 inputs=inputs)\n\u001b[0;32m--> 307\u001b[0;31m         \u001b[0mtorch\u001b[0m\u001b[0;34m.\u001b[0m\u001b[0mautograd\u001b[0m\u001b[0;34m.\u001b[0m\u001b[0mbackward\u001b[0m\u001b[0;34m(\u001b[0m\u001b[0mself\u001b[0m\u001b[0;34m,\u001b[0m \u001b[0mgradient\u001b[0m\u001b[0;34m,\u001b[0m \u001b[0mretain_graph\u001b[0m\u001b[0;34m,\u001b[0m \u001b[0mcreate_graph\u001b[0m\u001b[0;34m,\u001b[0m \u001b[0minputs\u001b[0m\u001b[0;34m=\u001b[0m\u001b[0minputs\u001b[0m\u001b[0;34m)\u001b[0m\u001b[0;34m\u001b[0m\u001b[0;34m\u001b[0m\u001b[0m\n\u001b[0m\u001b[1;32m    308\u001b[0m \u001b[0;34m\u001b[0m\u001b[0m\n\u001b[1;32m    309\u001b[0m     \u001b[0;32mdef\u001b[0m \u001b[0mregister_hook\u001b[0m\u001b[0;34m(\u001b[0m\u001b[0mself\u001b[0m\u001b[0;34m,\u001b[0m \u001b[0mhook\u001b[0m\u001b[0;34m)\u001b[0m\u001b[0;34m:\u001b[0m\u001b[0;34m\u001b[0m\u001b[0;34m\u001b[0m\u001b[0m\n",
      "\u001b[0;32m~/opt/anaconda3/lib/python3.9/site-packages/torch/autograd/__init__.py\u001b[0m in \u001b[0;36mbackward\u001b[0;34m(tensors, grad_tensors, retain_graph, create_graph, grad_variables, inputs)\u001b[0m\n\u001b[1;32m    152\u001b[0m         \u001b[0mretain_graph\u001b[0m \u001b[0;34m=\u001b[0m \u001b[0mcreate_graph\u001b[0m\u001b[0;34m\u001b[0m\u001b[0;34m\u001b[0m\u001b[0m\n\u001b[1;32m    153\u001b[0m \u001b[0;34m\u001b[0m\u001b[0m\n\u001b[0;32m--> 154\u001b[0;31m     Variable._execution_engine.run_backward(\n\u001b[0m\u001b[1;32m    155\u001b[0m         \u001b[0mtensors\u001b[0m\u001b[0;34m,\u001b[0m \u001b[0mgrad_tensors_\u001b[0m\u001b[0;34m,\u001b[0m \u001b[0mretain_graph\u001b[0m\u001b[0;34m,\u001b[0m \u001b[0mcreate_graph\u001b[0m\u001b[0;34m,\u001b[0m \u001b[0minputs\u001b[0m\u001b[0;34m,\u001b[0m\u001b[0;34m\u001b[0m\u001b[0;34m\u001b[0m\u001b[0m\n\u001b[1;32m    156\u001b[0m         allow_unreachable=True, accumulate_grad=True)  # allow_unreachable flag\n",
      "\u001b[0;31mKeyboardInterrupt\u001b[0m: "
     ]
    }
   ],
   "source": [
    "optimizer = torch.optim.Adam(model.parameters(), lr=1e-3, weight_decay=1e-5)\n",
    "criterion = torch.nn.MSELoss()\n",
    "scheduler = torch.optim.lr_scheduler.ReduceLROnPlateau(optimizer, patience=10, factor=0.5 ,min_lr=1e-7, eps=1e-08)\n",
    "\n",
    "n_epochs = 50\n",
    "\n",
    "history = dict(train=[], val=[])\n",
    "\n",
    "for epoch in range(n_epochs):\n",
    "    model.train(True)\n",
    "\n",
    "    train_losses = []\n",
    "    for i in tqdm(range(len(TrainX))):\n",
    "        seq_inp = TrainX[i,:,:]\n",
    "        seq_true = Trainy[i,:,:]\n",
    "\n",
    "        optimizer.zero_grad()\n",
    "\n",
    "        #print(f'prev_y {seq_inp[seq_length-1:seq_length,:]}')\n",
    "        seq_pred = model(seq_inp,seq_inp[seq_length-1:seq_length,:])\n",
    "\n",
    "        #print(seq_pred, train_y)\n",
    "        \n",
    "        loss = criterion(seq_pred, seq_true)\n",
    "        \n",
    "        #print(loss.item())\n",
    "        \n",
    "\n",
    "        loss.backward()\n",
    "\n",
    "        torch.nn.utils.clip_grad_norm_(model.parameters(), 1)\n",
    "        optimizer.step()\n",
    "\n",
    "        train_losses.append(loss.item())\n",
    "  \n",
    "\n",
    "    val_losses = []\n",
    "    model = model.eval()\n",
    "    with torch.no_grad():\n",
    "        for i in range(len(ValidX)):\n",
    "            seq_inp = ValidX[i,:,:]\n",
    "            seq_true = Validy[i,:,:]\n",
    "\n",
    "\n",
    "            seq_pred = model(seq_inp,seq_inp[seq_length-1:seq_length,:])\n",
    "\n",
    "           \n",
    "            loss = criterion(seq_pred, seq_true)\n",
    "            val_losses.append(loss.item())\n",
    "\n",
    "    train_loss = np.mean(train_losses)\n",
    "    val_loss = np.mean(val_losses)\n",
    "\n",
    "    history['train'].append(train_loss)\n",
    "    history['val'].append(val_loss)\n",
    "\n",
    "    #if val_loss < best_loss:\n",
    "    #    best_loss = val_loss\n",
    "    #    torch.save(model.state_dict(), 'best_model_n_features.pt')\n",
    "    #    print(\"saved best model epoch:\",epoch,\"val loss is:\",val_loss)\n",
    "\n",
    "    #print(f'Epoch {epoch}: train loss {train_loss} val loss {val_loss}')\n",
    "    \n",
    "    clear_output(True)\n",
    "\n",
    "    plt.xlabel('epoch')\n",
    "    plt.ylabel('loss')\n",
    "    plt.plot(history['train'], label='train loss')\n",
    "    plt.plot(history['val'], label='val loss')\n",
    "\n",
    "    plt.legend()\n",
    "    plt.show()\n",
    "    \n",
    "    scheduler.step(val_loss)"
   ]
  },
  {
   "cell_type": "code",
   "execution_count": 469,
   "id": "89daf8ce",
   "metadata": {},
   "outputs": [],
   "source": [
    "model = model.eval()"
   ]
  },
  {
   "cell_type": "code",
   "execution_count": 470,
   "id": "2bdf5de2",
   "metadata": {},
   "outputs": [],
   "source": [
    "preds = []\n",
    "\n",
    "for i in range(len(TrainX)):\n",
    "    seq_inp = TrainX[i,:,:]\n",
    "    seq_pred = model(seq_inp,seq_inp[seq_length-1:seq_length,:]).detach().numpy()\n",
    "    \n",
    "    preds.append(seq_pred)"
   ]
  },
  {
   "cell_type": "code",
   "execution_count": 471,
   "id": "9e2c7050",
   "metadata": {},
   "outputs": [
    {
     "data": {
      "text/plain": [
       "(1428, 28, 1)"
      ]
     },
     "execution_count": 471,
     "metadata": {},
     "output_type": "execute_result"
    }
   ],
   "source": [
    "predy = np.array(preds)\n",
    "predy.shape"
   ]
  },
  {
   "cell_type": "code",
   "execution_count": 472,
   "id": "c66b7ca9",
   "metadata": {},
   "outputs": [
    {
     "data": {
      "text/plain": [
       "(1428, 28, 1)"
      ]
     },
     "execution_count": 472,
     "metadata": {},
     "output_type": "execute_result"
    }
   ],
   "source": [
    "valy = Trainy.detach().numpy()\n",
    "valy.shape"
   ]
  },
  {
   "cell_type": "code",
   "execution_count": 473,
   "id": "dd63ce4a",
   "metadata": {},
   "outputs": [
    {
     "data": {
      "text/plain": [
       "<matplotlib.legend.Legend at 0x7fe91f04a520>"
      ]
     },
     "execution_count": 473,
     "metadata": {},
     "output_type": "execute_result"
    },
    {
     "data": {
      "image/png": "[encoded data removed]",
      "text/plain": [
       "<Figure size 432x288 with 1 Axes>"
      ]
     },
     "metadata": {
      "needs_background": "light"
     },
     "output_type": "display_data"
    }
   ],
   "source": [
    "plt.plot(\n",
    "    predy[:, 0, 0],\n",
    "    label='pred'\n",
    ")\n",
    "\n",
    "plt.plot(\n",
    "    valy[:, 0, 0],\n",
    "    label='true'\n",
    ")\n",
    "\n",
    "plt.legend()"
   ]
  },
  {
   "cell_type": "code",
   "execution_count": 110,
   "id": "2cb268aa",
   "metadata": {},
   "outputs": [
    {
     "data": {
      "text/plain": [
       "<matplotlib.legend.Legend at 0x7fe7d705bd90>"
      ]
     },
     "execution_count": 110,
     "metadata": {},
     "output_type": "execute_result"
    },
    {
     "data": {
      "image/png": "[encoded data removed]",
      "text/plain": [
       "<Figure size 432x288 with 1 Axes>"
      ]
     },
     "metadata": {
      "needs_background": "light"
     },
     "output_type": "display_data"
    }
   ],
   "source": [
    "plt.plot(\n",
    "    np.sum(predy[:, 0, :], axis=1),\n",
    "    label='pred'\n",
    ")\n",
    "\n",
    "plt.plot(\n",
    "    np.sum(valy[:, 0, :], axis=1),\n",
    "    label='true'\n",
    ")\n",
    "\n",
    "plt.legend()"
   ]
  },
  {
   "cell_type": "code",
   "execution_count": null,
   "id": "729696e2",
   "metadata": {},
   "outputs": [],
   "source": []
  }
 ],
 "metadata": {
  "kernelspec": {
   "display_name": "Python 3 (ipykernel)",
   "language": "python",
   "name": "python3"
  },
  "language_info": {
   "codemirror_mode": {
    "name": "ipython",
    "version": 3
   },
   "file_extension": ".py",
   "mimetype": "text/x-python",
   "name": "python",
   "nbconvert_exporter": "python",
   "pygments_lexer": "ipython3",
   "version": "3.9.7"
  }
 },
 "nbformat": 4,
 "nbformat_minor": 5
}
